{
  "nbformat": 4,
  "nbformat_minor": 0,
  "metadata": {
    "colab": {
      "name": "5_ ControlStatement.ipynb",
      "provenance": [],
      "collapsed_sections": [],
      "authorship_tag": "ABX9TyO951XnSkS6IlocggLr2/KX",
      "include_colab_link": true
    },
    "kernelspec": {
      "name": "python3",
      "display_name": "Python 3"
    },
    "language_info": {
      "name": "python"
    }
  },
  "cells": [
    {
      "cell_type": "markdown",
      "metadata": {
        "id": "view-in-github",
        "colab_type": "text"
      },
      "source": [
        "<a href=\"https://colab.research.google.com/github/MinYongKim/Python/blob/master/5__ControlStatement.ipynb\" target=\"_parent\"><img src=\"https://colab.research.google.com/assets/colab-badge.svg\" alt=\"Open In Colab\"/></a>"
      ]
    },
    {
      "cell_type": "markdown",
      "metadata": {
        "id": "Ged3PhGwyPG_"
      },
      "source": [
        "# 5. Python 제어문\n",
        "## 5.1 조건문\n",
        "\n",
        "### `If 문`\n",
        "\n",
        "- 조건에 따라 코드를 다르게 실행\n",
        "- 지정한 조건에 따라 다르게 분기해 명령을 수행\n",
        "- 조건의 만족 여부에 따라서 코드 수행 결과가 달라짐\n",
        "- 전체적은 구조를 잡을때는  `pass` 를 사용한다"
      ]
    },
    {
      "cell_type": "code",
      "metadata": {
        "colab": {
          "base_uri": "https://localhost:8080/"
        },
        "id": "o7wzYQQAxxmy",
        "outputId": "3fdd711f-7adb-4391-b239-a5057b5c8071"
      },
      "source": [
        "# if\n",
        "\n",
        "x = 91\n",
        "\n",
        "if (x>=90) :\n",
        "    print('합격')\n"
      ],
      "execution_count": null,
      "outputs": [
        {
          "output_type": "stream",
          "text": [
            "합격\n"
          ],
          "name": "stdout"
        }
      ]
    },
    {
      "cell_type": "code",
      "metadata": {
        "colab": {
          "base_uri": "https://localhost:8080/"
        },
        "id": "EX9RpINsxbj7",
        "outputId": "066d425b-8ddc-480d-ce09-7ae433edbebc"
      },
      "source": [
        "# if ~ else\n",
        "# else는 단독으로 쓸 수 없고 반드시 if와 함께 써야 함\n",
        "score = input(' ')\n",
        "\n",
        "if int(score) >= 90 :\n",
        "    print('합격')\n",
        "else :\n",
        "    print('불')\n"
      ],
      "execution_count": null,
      "outputs": [
        {
          "output_type": "stream",
          "text": [
            " 100\n",
            "합격\n"
          ],
          "name": "stdout"
        }
      ]
    },
    {
      "cell_type": "code",
      "metadata": {
        "colab": {
          "base_uri": "https://localhost:8080/"
        },
        "id": "c0q8G3Lxyd1t",
        "outputId": "1c96bc55-68a6-4bf0-9fc7-74abe0e5ee24"
      },
      "source": [
        "user = input(\"\")\n",
        "if int(user) % 2 == 0:\n",
        "    print(\"짝수\")\n",
        "else:\n",
        "    print(\"홀수\")"
      ],
      "execution_count": null,
      "outputs": [
        {
          "output_type": "stream",
          "text": [
            "15\n",
            "홀수\n"
          ],
          "name": "stdout"
        }
      ]
    },
    {
      "cell_type": "markdown",
      "metadata": {
        "id": "LHCAljonXLCp"
      },
      "source": [
        "### if ~ elif ~ else\n",
        "- 여러 조건에 따라 코드를 각각 다르게 수행\n",
        "- elif는 필요따라 여러 개 사용 가능"
      ]
    },
    {
      "cell_type": "code",
      "metadata": {
        "colab": {
          "base_uri": "https://localhost:8080/"
        },
        "id": "jLfBTYBhzIKb",
        "outputId": "9333b616-3042-47bd-8aa2-7de07d914ce7"
      },
      "source": [
        "# if ~ elif ~ else\n",
        "\n",
        "grade = input('')\n",
        "\n",
        "if int(grade) >= 90 :\n",
        "    if int(grade) == 100 :\n",
        "        print('perfect')\n",
        "    else :\n",
        "        print('A')\n",
        "elif (int(grade) >=80) and (int(grade)<90) :\n",
        "    print('B')\n",
        "elif (int(grade) >=70) and (int(grade)<60) :\n",
        "    print('C')\n",
        "else :\n",
        "    print('F')        "
      ],
      "execution_count": null,
      "outputs": [
        {
          "output_type": "stream",
          "text": [
            "100\n",
            "perfect\n"
          ],
          "name": "stdout"
        }
      ]
    },
    {
      "cell_type": "code",
      "metadata": {
        "colab": {
          "base_uri": "https://localhost:8080/"
        },
        "id": "FY46hUpb5oib",
        "outputId": "7017d9d6-3cd7-4556-8e57-3961cdc2e7e3"
      },
      "source": [
        "user = input(\"입력값: \")\n",
        "num = int(user)-20\n",
        "if num > 255:\n",
        "    print(255)\n",
        "elif num < 0:\n",
        "    print(0)\n",
        "else:\n",
        "    print(num)"
      ],
      "execution_count": null,
      "outputs": [
        {
          "output_type": "stream",
          "text": [
            "입력값: 280\n",
            "255\n"
          ],
          "name": "stdout"
        }
      ]
    },
    {
      "cell_type": "markdown",
      "metadata": {
        "id": "QC4KtdkBASAy"
      },
      "source": [
        "## 5.2 반복문\n",
        "\n",
        "- 반복적으로 수행하는 구문\n",
        "- 효율적인 코드를 작성하기 위함\n",
        "- for 문\n",
        "- while 문\n",
        "\n",
        "### for in range()\n",
        "- range(start, stop, step)\n",
        "- start, stop은 양의정수, 음의 정수, 0 모두 사용가능\n",
        "- start부터 시작해서 stop 전까지(stop은 포함되지 않음) step만큼 계속\n",
        "더해 <반복 범위>를 만듬\n",
        "- step 은 양의 정수,음의 정수만 사용\n"
      ]
    },
    {
      "cell_type": "code",
      "metadata": {
        "id": "csoFxTcT-ips"
      },
      "source": [
        "# 리스트를 이용한 반복문\n",
        "data = [0,1,2,3,4,5]\n",
        "\n",
        "for i in data:\n",
        "    i=i+1\n",
        "    print(i, i+10)\n",
        "\n",
        "# range() 함수를 이용한 반복문\n",
        "\n",
        "for i in range(5):\n",
        "    i = i+1\n",
        "    print(i)  "
      ],
      "execution_count": null,
      "outputs": []
    },
    {
      "cell_type": "code",
      "metadata": {
        "id": "U21fa8rQCEsV"
      },
      "source": [
        "# range() 함수를 이용한 반복문\n",
        "\n",
        "for i in range(5,20,1):\n",
        "    i = i+1\n",
        "    print(i)\n",
        " "
      ],
      "execution_count": null,
      "outputs": []
    },
    {
      "cell_type": "markdown",
      "metadata": {
        "id": "G_X-gFpyNsjC"
      },
      "source": [
        "### 중첩 for 문\n",
        "- for 문 안에 for문 구조를 이용한다"
      ]
    },
    {
      "cell_type": "code",
      "metadata": {
        "colab": {
          "base_uri": "https://localhost:8080/"
        },
        "id": "XTYyIRD3NSF6",
        "outputId": "101280b2-c086-4529-8b5c-b2b77277724b"
      },
      "source": [
        "x_list = ['x1', 'x2']\n",
        "y_list = ['y1', 'y2']\n",
        "\n",
        "print('x y')\n",
        "for x in x_list :\n",
        "    for y in y_list:\n",
        "        print(x,y)"
      ],
      "execution_count": null,
      "outputs": [
        {
          "output_type": "stream",
          "text": [
            "x y\n",
            "x1 y1\n",
            "x1 y2\n",
            "x2 y1\n",
            "x2 y2\n"
          ],
          "name": "stdout"
        }
      ]
    },
    {
      "cell_type": "code",
      "metadata": {
        "colab": {
          "base_uri": "https://localhost:8080/"
        },
        "id": "GI5_LTzoTUUs",
        "outputId": "34c358df-55c5-4980-baa7-f4224afc37f3"
      },
      "source": [
        "# N개 리스트\n",
        "name = ['james', 'robert','lisa', 'mary']\n",
        "score = [95, 96, 97, 94]\n",
        "\n",
        "for i in range(len(name)):\n",
        "    print(name[i], score[i])"
      ],
      "execution_count": null,
      "outputs": [
        {
          "output_type": "stream",
          "text": [
            "james 95\n",
            "robert 96\n",
            "lisa 97\n",
            "mary 94\n"
          ],
          "name": "stdout"
        }
      ]
    },
    {
      "cell_type": "code",
      "metadata": {
        "colab": {
          "base_uri": "https://localhost:8080/"
        },
        "id": "PVhZafceVVIQ",
        "outputId": "f62d7e5f-f111-4b40-a094-e9b19e7b642f"
      },
      "source": [
        "# zip()함수\n",
        "name = ['james', 'robert','lisa', 'mary']\n",
        "score = [95, 96, 97, 94]\n",
        "\n",
        "for name, score in zip(name, score):\n",
        "    print(name, score)"
      ],
      "execution_count": null,
      "outputs": [
        {
          "output_type": "stream",
          "text": [
            "james 95\n",
            "robert 96\n",
            "lisa 97\n",
            "mary 94\n"
          ],
          "name": "stdout"
        }
      ]
    },
    {
      "cell_type": "markdown",
      "metadata": {
        "id": "YXMxxPD4aQTE"
      },
      "source": [
        "### while문\n",
        "- 조건에 따라 반복 여부 결정\n",
        "- 반복 범위 없이 조건에 따라서 반복 수행 여부를 결정하는 경우\n",
        "- 초기값, 증가값 설정\n"
      ]
    },
    {
      "cell_type": "code",
      "metadata": {
        "colab": {
          "base_uri": "https://localhost:8080/"
        },
        "id": "G8HPutunbgY3",
        "outputId": "9e8e67c5-fd79-493b-fce8-e748042bb4ea"
      },
      "source": [
        "i = 0\n",
        "sum = 0\n",
        "print ('i, sum')\n",
        "\n",
        "while (sum<20) :\n",
        "    i = i*1 \n",
        "    sum = sum+ i\n",
        "    print(i,sum)"
      ],
      "execution_count": null,
      "outputs": [
        {
          "output_type": "stream",
          "text": [
            "i, sum\n",
            "1 1\n",
            "2 3\n",
            "3 6\n",
            "4 10\n",
            "5 15\n",
            "6 21\n"
          ],
          "name": "stdout"
        }
      ]
    },
    {
      "cell_type": "markdown",
      "metadata": {
        "id": "kswDpar0RJvP"
      },
      "source": [
        "### break 와 continue\n",
        "\n",
        "- 반복문 안에서 `break`를 만나게 되면 반복문을 빠져나옴\n",
        "- 반복문 안에서 `continue`를 만나면 반복문의 처음으로 돌아가서 다음 반\n",
        "복을 진행\n"
      ]
    },
    {
      "cell_type": "code",
      "metadata": {
        "colab": {
          "base_uri": "https://localhost:8080/"
        },
        "id": "3K2050UBm6MI",
        "outputId": "3f12b423-9baf-49e7-e93a-86b04554bb98"
      },
      "source": [
        "# break\n",
        "k= 0\n",
        "while True:\n",
        "    k = k+1\n",
        "    if (k > 3):\n",
        "        break\n",
        "        \n",
        "    print(k)"
      ],
      "execution_count": 19,
      "outputs": [
        {
          "output_type": "stream",
          "text": [
            "1\n",
            "2\n",
            "3\n"
          ],
          "name": "stdout"
        }
      ]
    },
    {
      "cell_type": "code",
      "metadata": {
        "colab": {
          "base_uri": "https://localhost:8080/"
        },
        "id": "mbf6cQ_hoMzM",
        "outputId": "10e65a50-ee75-4b1e-9895-b22ddd522a28"
      },
      "source": [
        "# continue\n",
        "for k in range(5):\n",
        "    if(k==2):\n",
        "        continue\n",
        "    print(k)"
      ],
      "execution_count": 12,
      "outputs": [
        {
          "output_type": "stream",
          "text": [
            "0\n",
            "1\n",
            "3\n",
            "4\n"
          ],
          "name": "stdout"
        }
      ]
    },
    {
      "cell_type": "code",
      "metadata": {
        "id": "AVp1i6hspjSb"
      },
      "source": [
        "# break, continue\n",
        "\n",
        "k = 0\n",
        "\n",
        "while True:\n",
        "    k = k+1\n",
        "    if k==2 :\n",
        "        print('continue next')\n",
        "        continue\n",
        "    if(k>4):\n",
        "        break\n",
        "    print(k)"
      ],
      "execution_count": null,
      "outputs": []
    },
    {
      "cell_type": "markdown",
      "metadata": {
        "id": "OlYfXuqSM9wl"
      },
      "source": [
        "## 5.3 컴프리헨션(Comprehecnsion)\n",
        "- 파이썬에서는 리스트, 세트, 딕셔너리에서 실행할 수 있는 한 줄\n",
        "- for문 지원\n",
        "- 기본구조 [〈반복 실행문〉 for <반복 변수> in 〈반복 범위〉] \n",
        "- `:` 이용하지 않음\n",
        "- 데이터처리 속도 향상"
      ]
    },
    {
      "cell_type": "code",
      "metadata": {
        "colab": {
          "base_uri": "https://localhost:8080/"
        },
        "id": "IqcZi1IuONwc",
        "outputId": "efb13342-6d3a-4956-b75e-b3b2ae972ed2"
      },
      "source": [
        "# 리스트 컴프리헨션 for문\n",
        "\n",
        "numbers = [1,2,3,4,5]\n",
        "squre = [i**2 for i in numbers]\n",
        "print(squre)\n",
        "\n",
        "# 일반식\n",
        "# numbers = [1,2,3,4,5]\n",
        "# squre = []\n",
        "\n",
        "# for i in numbers :\n",
        "#     squre.append(i**2)\n",
        "\n",
        "# print(squre)"
      ],
      "execution_count": 21,
      "outputs": [
        {
          "output_type": "stream",
          "text": [
            "[1, 4, 9, 16, 25]\n"
          ],
          "name": "stdout"
        }
      ]
    },
    {
      "cell_type": "code",
      "metadata": {
        "colab": {
          "base_uri": "https://localhost:8080/"
        },
        "id": "hwdDwzqbOTEI",
        "outputId": "52733536-a343-4117-c666-79ab78b2e7a9"
      },
      "source": [
        "# 리스트 컴프리헨션 조건문 포함\n",
        "# [ 반복 실행문 for 반복 변수 in 반복 범위 if 조건문]\n",
        "\n",
        "numbers = [1,2,3,4,5]\n",
        "squre = [i**2 for i in numbers if i>=3]\n",
        "print(squre)"
      ],
      "execution_count": 23,
      "outputs": [
        {
          "output_type": "stream",
          "text": [
            "[9, 16, 25]\n"
          ],
          "name": "stdout"
        }
      ]
    },
    {
      "cell_type": "code",
      "metadata": {
        "id": "H8SAu6icPlCf"
      },
      "source": [
        ""
      ],
      "execution_count": null,
      "outputs": []
    }
  ]
}