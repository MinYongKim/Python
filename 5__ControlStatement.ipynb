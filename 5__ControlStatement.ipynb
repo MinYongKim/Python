{
  "nbformat": 4,
  "nbformat_minor": 0,
  "metadata": {
    "colab": {
      "name": "5_ ControlStatement.ipynb",
      "provenance": [],
      "collapsed_sections": [],
      "authorship_tag": "ABX9TyMe0JFQfXW9BnKQoQXDVqLu",
      "include_colab_link": true
    },
    "kernelspec": {
      "name": "python3",
      "display_name": "Python 3"
    },
    "language_info": {
      "name": "python"
    }
  },
  "cells": [
    {
      "cell_type": "markdown",
      "metadata": {
        "id": "view-in-github",
        "colab_type": "text"
      },
      "source": [
        "<a href=\"https://colab.research.google.com/github/MinYongKim/Python/blob/master/5__ControlStatement.ipynb\" target=\"_parent\"><img src=\"https://colab.research.google.com/assets/colab-badge.svg\" alt=\"Open In Colab\"/></a>"
      ]
    },
    {
      "cell_type": "markdown",
      "metadata": {
        "id": "Ged3PhGwyPG_"
      },
      "source": [
        "# 5. Python 제어문\n",
        "## 5.1 조건문\n",
        "\n",
        "### `If 문`\n",
        "\n",
        "- 조건에 따라 코드를 다르게 실행\n",
        "- 지정한 조건에 따라 다르게 분기해 명령을 수행\n",
        "- 조건의 만족 여부에 따라서 코드 수행 결과가 달라짐\n",
        "- 전체적은 구조를 잡을때는  `pass` 를 사용한다"
      ]
    },
    {
      "cell_type": "code",
      "metadata": {
        "colab": {
          "base_uri": "https://localhost:8080/"
        },
        "id": "o7wzYQQAxxmy",
        "outputId": "3fdd711f-7adb-4391-b239-a5057b5c8071"
      },
      "source": [
        "# if\n",
        "\n",
        "x = 91\n",
        "\n",
        "if (x>=90) :\n",
        "    print('합격')\n"
      ],
      "execution_count": null,
      "outputs": [
        {
          "output_type": "stream",
          "text": [
            "합격\n"
          ],
          "name": "stdout"
        }
      ]
    },
    {
      "cell_type": "code",
      "metadata": {
        "colab": {
          "base_uri": "https://localhost:8080/"
        },
        "id": "EX9RpINsxbj7",
        "outputId": "066d425b-8ddc-480d-ce09-7ae433edbebc"
      },
      "source": [
        "# if ~ else\n",
        "# else는 단독으로 쓸 수 없고 반드시 if와 함께 써야 함\n",
        "score = input(' ')\n",
        "\n",
        "if int(score) >= 90 :\n",
        "    print('합격')\n",
        "else :\n",
        "    print('불')\n"
      ],
      "execution_count": null,
      "outputs": [
        {
          "output_type": "stream",
          "text": [
            " 100\n",
            "합격\n"
          ],
          "name": "stdout"
        }
      ]
    },
    {
      "cell_type": "code",
      "metadata": {
        "colab": {
          "base_uri": "https://localhost:8080/"
        },
        "id": "c0q8G3Lxyd1t",
        "outputId": "1c96bc55-68a6-4bf0-9fc7-74abe0e5ee24"
      },
      "source": [
        "user = input(\"\")\n",
        "if int(user) % 2 == 0:\n",
        "    print(\"짝수\")\n",
        "else:\n",
        "    print(\"홀수\")"
      ],
      "execution_count": null,
      "outputs": [
        {
          "output_type": "stream",
          "text": [
            "15\n",
            "홀수\n"
          ],
          "name": "stdout"
        }
      ]
    },
    {
      "cell_type": "code",
      "metadata": {
        "colab": {
          "base_uri": "https://localhost:8080/"
        },
        "id": "jLfBTYBhzIKb",
        "outputId": "9333b616-3042-47bd-8aa2-7de07d914ce7"
      },
      "source": [
        "# if ~ elif ~ else\n",
        "\n",
        "grade = input('')\n",
        "\n",
        "if int(grade) >= 90 :\n",
        "    if int(grade) == 100 :\n",
        "        print('perfect')\n",
        "    else :\n",
        "        print('A')\n",
        "elif (int(grade) >=80) and (int(grade)<90) :\n",
        "    print('B')\n",
        "elif (int(grade) >=70) and (int(grade)<60) :\n",
        "    print('C')\n",
        "else :\n",
        "    print('F')        "
      ],
      "execution_count": null,
      "outputs": [
        {
          "output_type": "stream",
          "text": [
            "100\n",
            "perfect\n"
          ],
          "name": "stdout"
        }
      ]
    },
    {
      "cell_type": "code",
      "metadata": {
        "colab": {
          "base_uri": "https://localhost:8080/"
        },
        "id": "FY46hUpb5oib",
        "outputId": "7017d9d6-3cd7-4556-8e57-3961cdc2e7e3"
      },
      "source": [
        "user = input(\"입력값: \")\n",
        "num = int(user)-20\n",
        "if num > 255:\n",
        "    print(255)\n",
        "elif num < 0:\n",
        "    print(0)\n",
        "else:\n",
        "    print(num)"
      ],
      "execution_count": null,
      "outputs": [
        {
          "output_type": "stream",
          "text": [
            "입력값: 280\n",
            "255\n"
          ],
          "name": "stdout"
        }
      ]
    },
    {
      "cell_type": "markdown",
      "metadata": {
        "id": "QC4KtdkBASAy"
      },
      "source": [
        "## 5.2 반복문\n",
        "\n",
        "- 반복적으로 수행하는 구문\n",
        "- 효율적인 코드를 작성하기 위함\n",
        "- for 문\n",
        "- while 문\n",
        "\n",
        "### for in range()\n",
        "- range(start, stop, step)\n",
        "- start, stop은 양의정수, 음의 정수, 0 모두 사용가능\n",
        "- start부터 시작해서 stop 전까지(stop은 포함되지 않음) step만큼 계속\n",
        "더해 <반복 범위>를 만듬\n",
        "- step 은 양의 정수,음의 정수만 사용\n"
      ]
    },
    {
      "cell_type": "code",
      "metadata": {
        "id": "csoFxTcT-ips"
      },
      "source": [
        "# 리스트를 이용한 반복문\n",
        "data = [0,1,2,3,4,5]\n",
        "\n",
        "for i in data:\n",
        "    i=i+1\n",
        "    print(i, i+10)\n",
        "\n",
        "# range() 함수를 이용한 반복문\n",
        "\n",
        "for i in range(5):\n",
        "    i = i+1\n",
        "    print(i)  "
      ],
      "execution_count": null,
      "outputs": []
    },
    {
      "cell_type": "code",
      "metadata": {
        "id": "U21fa8rQCEsV"
      },
      "source": [
        "# range() 함수를 이용한 반복문\n",
        "\n",
        "for i in range(5,20,1):\n",
        "    i = i+1\n",
        "    print(i)\n",
        " "
      ],
      "execution_count": null,
      "outputs": []
    },
    {
      "cell_type": "markdown",
      "metadata": {
        "id": "G_X-gFpyNsjC"
      },
      "source": [
        "### 중첩 for 문\n",
        "- for 문 안에 for문 구조를 이용한다"
      ]
    },
    {
      "cell_type": "code",
      "metadata": {
        "colab": {
          "base_uri": "https://localhost:8080/"
        },
        "id": "XTYyIRD3NSF6",
        "outputId": "101280b2-c086-4529-8b5c-b2b77277724b"
      },
      "source": [
        "x_list = ['x1', 'x2']\n",
        "y_list = ['y1', 'y2']\n",
        "\n",
        "print('x y')\n",
        "for x in x_list :\n",
        "    for y in y_list:\n",
        "        print(x,y)"
      ],
      "execution_count": null,
      "outputs": [
        {
          "output_type": "stream",
          "text": [
            "x y\n",
            "x1 y1\n",
            "x1 y2\n",
            "x2 y1\n",
            "x2 y2\n"
          ],
          "name": "stdout"
        }
      ]
    },
    {
      "cell_type": "code",
      "metadata": {
        "colab": {
          "base_uri": "https://localhost:8080/"
        },
        "id": "GI5_LTzoTUUs",
        "outputId": "34c358df-55c5-4980-baa7-f4224afc37f3"
      },
      "source": [
        "# N개 리스트\n",
        "name = ['james', 'robert','lisa', 'mary']\n",
        "score = [95, 96, 97, 94]\n",
        "\n",
        "for i in range(len(name)):\n",
        "    print(name[i], score[i])"
      ],
      "execution_count": null,
      "outputs": [
        {
          "output_type": "stream",
          "text": [
            "james 95\n",
            "robert 96\n",
            "lisa 97\n",
            "mary 94\n"
          ],
          "name": "stdout"
        }
      ]
    },
    {
      "cell_type": "code",
      "metadata": {
        "colab": {
          "base_uri": "https://localhost:8080/"
        },
        "id": "PVhZafceVVIQ",
        "outputId": "f62d7e5f-f111-4b40-a094-e9b19e7b642f"
      },
      "source": [
        "# zip()함수\n",
        "name = ['james', 'robert','lisa', 'mary']\n",
        "score = [95, 96, 97, 94]\n",
        "\n",
        "for name, score in zip(name, score):\n",
        "    print(name, score)"
      ],
      "execution_count": null,
      "outputs": [
        {
          "output_type": "stream",
          "text": [
            "james 95\n",
            "robert 96\n",
            "lisa 97\n",
            "mary 94\n"
          ],
          "name": "stdout"
        }
      ]
    },
    {
      "cell_type": "markdown",
      "metadata": {
        "id": "YXMxxPD4aQTE"
      },
      "source": [
        "### while문\n",
        "- 조건에 따라 반복 여부 결정\n",
        "- 반복 범위 없이 조건에 따라서 반복 수행 여부를 결졍하는 경우\n"
      ]
    },
    {
      "cell_type": "code",
      "metadata": {
        "colab": {
          "base_uri": "https://localhost:8080/"
        },
        "id": "G8HPutunbgY3",
        "outputId": "9e8e67c5-fd79-493b-fce8-e748042bb4ea"
      },
      "source": [
        "i = 0\n",
        "sum = 0\n",
        "print ('i, sum')\n",
        "\n",
        "while (sum<20) :\n",
        "    i = i*1 \n",
        "    sum = sum+ i\n",
        "    print(i,sum)"
      ],
      "execution_count": null,
      "outputs": [
        {
          "output_type": "stream",
          "text": [
            "i, sum\n",
            "1 1\n",
            "2 3\n",
            "3 6\n",
            "4 10\n",
            "5 15\n",
            "6 21\n"
          ],
          "name": "stdout"
        }
      ]
    }
  ]
}