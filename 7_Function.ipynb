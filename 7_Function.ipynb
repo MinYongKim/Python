{
  "nbformat": 4,
  "nbformat_minor": 0,
  "metadata": {
    "colab": {
      "name": "7_Function.ipynb",
      "provenance": [],
      "collapsed_sections": [],
      "authorship_tag": "ABX9TyPKBQScAbgyE+BeLtckVGt+",
      "include_colab_link": true
    },
    "kernelspec": {
      "name": "python3",
      "display_name": "Python 3"
    },
    "language_info": {
      "name": "python"
    }
  },
  "cells": [
    {
      "cell_type": "markdown",
      "metadata": {
        "id": "view-in-github",
        "colab_type": "text"
      },
      "source": [
        "<a href=\"https://colab.research.google.com/github/MinYongKim/Python/blob/master/7_Function.ipynb\" target=\"_parent\"><img src=\"https://colab.research.google.com/assets/colab-badge.svg\" alt=\"Open In Colab\"/></a>"
      ]
    },
    {
      "cell_type": "markdown",
      "metadata": {
        "id": "9nuksS2z8slJ"
      },
      "source": [
        ""
      ]
    },
    {
      "cell_type": "markdown",
      "metadata": {
        "id": "Rn8VNDHF8uIw"
      },
      "source": [
        "  ## 7.1 함수의 기본구조\n",
        "\n",
        "- 특정 기능을 수행하는 코드의 묶음\n",
        "- 내장함수, 외장함수, 사용자정의 함수\n",
        "    - 내장함수 - Python( print(),int(),float()...)\n",
        "    - 외부함수 - 라이브러리,패키지\n",
        "    - 사용자정의 함수\n",
        "- def 키워드로 시작\n",
        "    - def 함수명([인자1, 인자2, • • • , 인자n]):\n",
        "\n",
        "        〈코드 블록〉\n",
        "\n",
        "        [return <반환 값>]\n",
        "- 인자 값 O, 결과 값 O\n",
        "- 인자 값 X, 결과 값 O\n",
        "- 인자 값 O, 결과 값 X\n",
        "- 인자 값 X, 결과 값 X"
      ]
    },
    {
      "cell_type": "code",
      "metadata": {
        "colab": {
          "base_uri": "https://localhost:8080/"
        },
        "id": "iCzGobTC8L5Y",
        "outputId": "8cfae915-509a-4841-d913-aa491766d382"
      },
      "source": [
        "# 인자 값 X, 결과 값 X\n",
        "def my_funt():\n",
        "    print(\"my\")\n",
        "    print(\"me\")\n",
        "my_funt()\n",
        "\n",
        "# 인자 값 O, 결과 값 X\n",
        "def my_friend(name):\n",
        "    print(\"{}는 나의 친구 입니다\".format(name))\n",
        "my_friend(\"철수\")\n",
        "my_friend(\"영미\")\n",
        "\n",
        "# 인자 값 X, 결과 값 O\n",
        "def say():\n",
        "    return 'hi'\n",
        "say()\n",
        "\n",
        "# 인자 값 O, 결과 값 O\n",
        "def add(a,b):\n",
        "    result = a+b\n",
        "    return result\n",
        "\n",
        "a = add(3,4)\n",
        "print(a)"
      ],
      "execution_count": null,
      "outputs": [
        {
          "output_type": "stream",
          "text": [
            "my\n",
            "me\n",
            "철수는 나의 친구 입니다\n",
            "영미는 나의 친구 입니다\n",
            "7\n"
          ],
          "name": "stdout"
        }
      ]
    },
    {
      "cell_type": "markdown",
      "metadata": {
        "id": "lfvjOfDkBGvm"
      },
      "source": [
        "## 7.2 변수의 유효 범위\n",
        "- 함수 안에서 정의한 변수 함수 안에서만 사용 (지역 변수)\n",
        "- 지역 변수는 임시 저장 공간(메모리)에 할당되고 함수 실행이 끝나면 사라짐\n",
        "- 다른 함수에서 같은 이름으로 변수를 사용해도 각각 다른 임시 저장 공\n",
        "간에 할당되므로 독립적으로 동작\n",
        "- 지역 영역, 전역 영역, 내장 영역\n",
        "    - (스코핑 룰(Scoping rule) 혹은 LGB율 (Local/Global/Built_in rule))"
      ]
    },
    {
      "cell_type": "code",
      "metadata": {
        "id": "mP5eEES-O4Kq",
        "colab": {
          "base_uri": "https://localhost:8080/"
        },
        "outputId": "3c618f41-7a2a-49ad-847e-b60d6824d873"
      },
      "source": [
        "global a # 전역 변수 선언\n",
        "a = 5\n",
        "\n",
        "def func1():\n",
        "    a = 1 # 지역 변수, func1()에서만 사용\n",
        "    print(\"[func1] 지역변수 a=\", a)\n",
        "    \n",
        "def func3(): #지역 변수 선언이 없으므로 전역변수를 사용한다\n",
        "    print(\"[func3] 지역변수 a= \", a)\n",
        "\n",
        "def func4():\n",
        "    global a # 함수 내에서 전역 변수 변경을 위해 선언\n",
        "    a = 10 # 전역 변수 변경\n",
        "    print(\"[func4] 전역 변수 a=\", a)\n",
        "    \n",
        "func1()\n",
        "func3()\n",
        "print(\"전역 변수 a=\", a)\n",
        "func4()\n",
        "print(\"전역 변수 a=\", a)"
      ],
      "execution_count": null,
      "outputs": [
        {
          "output_type": "stream",
          "text": [
            "[func1] 지역변수 a= 1\n",
            "[func3] 지역변수 a=  5\n",
            "전역 변수 a= 5\n",
            "[func4] 전역 변수 a= 10\n",
            "전역 변수 a= 10\n"
          ],
          "name": "stdout"
        }
      ]
    },
    {
      "cell_type": "markdown",
      "metadata": {
        "id": "XOkwXxRJiPDR"
      },
      "source": [
        "## 7.3 람다(lambda) 함수\n",
        "- 한 줄로 함수를 표현하는 함수\n",
        "- 간단한 연산을 하는 데 사용\n",
        "- lambda 〈인자〉 : <인자 활용 수행 코드>"
      ]
    },
    {
      "cell_type": "code",
      "metadata": {
        "colab": {
          "base_uri": "https://localhost:8080/"
        },
        "id": "nPIY79UIiO7E",
        "outputId": "a383741a-0228-496a-d4f9-cb6bf64044e7"
      },
      "source": [
        "# def add(a,b):\n",
        "#     return a+b\n",
        "\n",
        "# add(3,4)\n",
        "\n",
        "add = lambda a, b: a+b\n",
        "print(add(5,6))\n",
        "print(add(3,4))\n",
        "\n",
        "\n",
        "(lambda x,y,z : 2*x + y - z)(1,2,3)"
      ],
      "execution_count": null,
      "outputs": [
        {
          "output_type": "stream",
          "text": [
            "11\n",
            "7\n"
          ],
          "name": "stdout"
        },
        {
          "output_type": "execute_result",
          "data": {
            "text/plain": [
              "1"
            ]
          },
          "metadata": {
            "tags": []
          },
          "execution_count": 7
        }
      ]
    },
    {
      "cell_type": "markdown",
      "metadata": {
        "id": "iYBJ6ChJ9PGh"
      },
      "source": [
        "## 7.4 bool 함수\n",
        "- bool() 함수의 인자가 숫자인 경우\n",
        "    - 숫자가 0이면 Flase\n",
        "    - 그외(양의 정수, 음의 정수, 양의 실수, 음의 실수) True\n",
        "- bool() 함수의 인자가 문자열, 빈 문자열 판단가능\n",
        "    - 문자열 있으면 True\n",
        "    - 문자열이 없으면 Flase\n",
        "    - 문자열에서 공백은 공백 문자열(\" \")이 있는 것이고 빈 문자열('')은 문자열이 없는 것\n",
        "- bool()함수는 리스트, 튜플, 세트를 인자로 호출할 수도 있음\n",
        "    - 문자열과 동일 (항목이 있으면 True, 없으면 False를 반환)"
      ]
    },
    {
      "cell_type": "code",
      "metadata": {
        "id": "gqyGO_kaUFcw",
        "colab": {
          "base_uri": "https://localhost:8080/"
        },
        "outputId": "6afaacc0-59b5-4566-9b5c-f088821419ef"
      },
      "source": [
        "print(bool(0))\n",
        "print(bool(1), bool(-1), bool(0.5), bool(-0.5))\n",
        "print(bool(\"\"), bool(\" \"))"
      ],
      "execution_count": 9,
      "outputs": [
        {
          "output_type": "stream",
          "text": [
            "False\n",
            "True True True True\n",
            "False True\n",
            "True\n"
          ],
          "name": "stdout"
        }
      ]
    },
    {
      "cell_type": "code",
      "metadata": {
        "id": "4fIMmmNtsdLg"
      },
      "source": [
        ""
      ],
      "execution_count": null,
      "outputs": []
    }
  ]
}