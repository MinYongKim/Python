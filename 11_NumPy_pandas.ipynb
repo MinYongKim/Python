{
  "nbformat": 4,
  "nbformat_minor": 0,
  "metadata": {
    "colab": {
      "name": "11_NumPy_pandas.ipynb",
      "provenance": [],
      "collapsed_sections": [],
      "authorship_tag": "ABX9TyP6mPbcRFquoUL1EMfVUBGE",
      "include_colab_link": true
    },
    "kernelspec": {
      "name": "python3",
      "display_name": "Python 3"
    },
    "language_info": {
      "name": "python"
    }
  },
  "cells": [
    {
      "cell_type": "markdown",
      "metadata": {
        "id": "view-in-github",
        "colab_type": "text"
      },
      "source": [
        "<a href=\"https://colab.research.google.com/github/MinYongKim/Python/blob/master/11_NumPy_pandas.ipynb\" target=\"_parent\"><img src=\"https://colab.research.google.com/assets/colab-badge.svg\" alt=\"Open In Colab\"/></a>"
      ]
    },
    {
      "cell_type": "markdown",
      "metadata": {
        "id": "58bhEGmntOsQ"
      },
      "source": [
        "#11 데이터 분석 패키지\n",
        "## 11.1 Numpy\n",
        "- 파이썬으로 과학 연산을 쉽고 빠르게 할 수 있게 만든 패키지\n",
        "- 다차원 배열 데이터를 효과적으로 처리\n",
        "- 배열(Array)란 순서가 있는 같은 종류의 데이터가 저장된 집합\n",
        "- arr_obj = np.array(seq_data)\n",
        "    - seq_data는 리스트와 튜플 모두 사용가가능하지만 주로 listdata 사용\n"
      ]
    },
    {
      "cell_type": "code",
      "metadata": {
        "id": "MWt_zWbXpbFg"
      },
      "source": [
        "import numpy as np"
      ],
      "execution_count": null,
      "outputs": []
    },
    {
      "cell_type": "code",
      "metadata": {
        "id": "D85p6q86ArTK"
      },
      "source": [
        "# Numpy의 1차원 배열 생성\n",
        "data1 = [0,1,2,3,4,5]\n",
        "a1 = np.array(data1)\n",
        "\n",
        "data2 = [0.1,5,4,12,0.5] # 정수와 실수가 혼합돼 있을때 모두 실수로 변환\n",
        "a2 = np.array(data2)"
      ],
      "execution_count": null,
      "outputs": []
    },
    {
      "cell_type": "code",
      "metadata": {
        "colab": {
          "base_uri": "https://localhost:8080/"
        },
        "id": "dpd3ecf8AwGh",
        "outputId": "be339aed-37b0-4b5c-cc04-1e301283e545"
      },
      "source": [
        "print(a1)\n",
        "print(a1.dtype)\n",
        "print(a2)\n",
        "print(a2.dtype)"
      ],
      "execution_count": null,
      "outputs": [
        {
          "output_type": "stream",
          "text": [
            "[0 1 2 3 4 5]\n",
            "int64\n",
            "[ 0.1  5.   4.  12.   0.5]\n",
            "float64\n"
          ],
          "name": "stdout"
        }
      ]
    },
    {
      "cell_type": "code",
      "metadata": {
        "colab": {
          "base_uri": "https://localhost:8080/"
        },
        "id": "smYKGeRGA7dY",
        "outputId": "56dfc2ae-48ef-48a4-f5b7-cc700a7b456e"
      },
      "source": [
        "np.array([0.5,2,0.01,8])"
      ],
      "execution_count": null,
      "outputs": [
        {
          "output_type": "execute_result",
          "data": {
            "text/plain": [
              "array([0.5 , 2.  , 0.01, 8.  ])"
            ]
          },
          "metadata": {
            "tags": []
          },
          "execution_count": 4
        }
      ]
    },
    {
      "cell_type": "code",
      "metadata": {
        "colab": {
          "base_uri": "https://localhost:8080/"
        },
        "id": "DqraKW6mD7AZ",
        "outputId": "d704312e-7de5-4208-b1b5-7676a90a44d0"
      },
      "source": [
        "# 2차원 배열 생성\n",
        "np.array([[1,2,3],[4,5,6],[7,8,9]])"
      ],
      "execution_count": null,
      "outputs": [
        {
          "output_type": "execute_result",
          "data": {
            "text/plain": [
              "array([[1, 2, 3],\n",
              "       [4, 5, 6],\n",
              "       [7, 8, 9]])"
            ]
          },
          "metadata": {
            "tags": []
          },
          "execution_count": 5
        }
      ]
    },
    {
      "cell_type": "markdown",
      "metadata": {
        "id": "n7GVHfE_D-k-"
      },
      "source": [
        "### 범위를 지정해서 배열생성\n",
        "- arr_obj = np.aragne(start,stop,step)"
      ]
    },
    {
      "cell_type": "code",
      "metadata": {
        "colab": {
          "base_uri": "https://localhost:8080/"
        },
        "id": "Xwmp8c4HD8ZS",
        "outputId": "0ffd47a6-24ff-44f7-b753-68af1589dc87"
      },
      "source": [
        "np.arange(0,10,2)"
      ],
      "execution_count": null,
      "outputs": [
        {
          "output_type": "execute_result",
          "data": {
            "text/plain": [
              "array([0, 2, 4, 6, 8])"
            ]
          },
          "metadata": {
            "tags": []
          },
          "execution_count": 6
        }
      ]
    },
    {
      "cell_type": "code",
      "metadata": {
        "colab": {
          "base_uri": "https://localhost:8080/"
        },
        "id": "nSzVJ7LLEYHp",
        "outputId": "15177117-11e1-4750-f00c-75473c1658ad"
      },
      "source": [
        "np.arange(1,10)"
      ],
      "execution_count": null,
      "outputs": [
        {
          "output_type": "execute_result",
          "data": {
            "text/plain": [
              "array([1, 2, 3, 4, 5, 6, 7, 8, 9])"
            ]
          },
          "metadata": {
            "tags": []
          },
          "execution_count": 7
        }
      ]
    },
    {
      "cell_type": "markdown",
      "metadata": {
        "id": "1W2gyn1MFxc5"
      },
      "source": [
        "### reshape(m,n)\n",
        "- 1차원 배열에 `.reshape(m.n)` 을 추가하면 m*n형태의 2차원 배열로 변경\n",
        "- 배열의 원소 개수와 reshape(m,n)의 m*n 개수는 같아야함"
      ]
    },
    {
      "cell_type": "code",
      "metadata": {
        "colab": {
          "base_uri": "https://localhost:8080/"
        },
        "id": "fu_DPV6lEaIZ",
        "outputId": "92ae2860-28ab-4edf-a9f7-6d9adb6a98e8"
      },
      "source": [
        "np.arange(12)"
      ],
      "execution_count": null,
      "outputs": [
        {
          "output_type": "execute_result",
          "data": {
            "text/plain": [
              "array([ 0,  1,  2,  3,  4,  5,  6,  7,  8,  9, 10, 11])"
            ]
          },
          "metadata": {
            "tags": []
          },
          "execution_count": 8
        }
      ]
    },
    {
      "cell_type": "code",
      "metadata": {
        "colab": {
          "base_uri": "https://localhost:8080/"
        },
        "id": "wL73IXNnGE5i",
        "outputId": "5be94429-a1e7-4448-fb2a-af9e601b0df9"
      },
      "source": [
        "b1 = np.arange(12).reshape(3,4)\n",
        "b1"
      ],
      "execution_count": null,
      "outputs": [
        {
          "output_type": "execute_result",
          "data": {
            "text/plain": [
              "array([[ 0,  1,  2,  3],\n",
              "       [ 4,  5,  6,  7],\n",
              "       [ 8,  9, 10, 11]])"
            ]
          },
          "metadata": {
            "tags": []
          },
          "execution_count": 9
        }
      ]
    },
    {
      "cell_type": "code",
      "metadata": {
        "colab": {
          "base_uri": "https://localhost:8080/"
        },
        "id": "hYqeaPNWGJj5",
        "outputId": "c08546fd-4d04-45d9-9b97-15d8e64c3d86"
      },
      "source": [
        "b1.shape"
      ],
      "execution_count": null,
      "outputs": [
        {
          "output_type": "execute_result",
          "data": {
            "text/plain": [
              "(3, 4)"
            ]
          },
          "metadata": {
            "tags": []
          },
          "execution_count": 10
        }
      ]
    },
    {
      "cell_type": "code",
      "metadata": {
        "colab": {
          "base_uri": "https://localhost:8080/"
        },
        "id": "M5B6bbydHhGy",
        "outputId": "d69ff490-3a95-4d1c-d1af-708afbaa3068"
      },
      "source": [
        "# 생선한 변수 b1 = 5개의 요소를 갖는 1차원 배열\n",
        "b2 = np.arange(5)\n",
        "b2"
      ],
      "execution_count": null,
      "outputs": [
        {
          "output_type": "execute_result",
          "data": {
            "text/plain": [
              "array([0, 1, 2, 3, 4])"
            ]
          },
          "metadata": {
            "tags": []
          },
          "execution_count": 11
        }
      ]
    },
    {
      "cell_type": "code",
      "metadata": {
        "colab": {
          "base_uri": "https://localhost:8080/"
        },
        "id": "aZg6G5WHHz8a",
        "outputId": "c450d453-51c5-4a17-e32f-4bdcd5f0b3df"
      },
      "source": [
        "b2.shape"
      ],
      "execution_count": null,
      "outputs": [
        {
          "output_type": "execute_result",
          "data": {
            "text/plain": [
              "(5,)"
            ]
          },
          "metadata": {
            "tags": []
          },
          "execution_count": 12
        }
      ]
    },
    {
      "cell_type": "markdown",
      "metadata": {
        "id": "X8JRYwo6IEf6"
      },
      "source": [
        "### linspace\n",
        "- arr_obj = np.linespace(start,stop,n)\n",
        "- linspace() 는 시작부터 끝까지 n개의 numpy배열을 생성\n",
        "- n을 지정하지 않으면 50"
      ]
    },
    {
      "cell_type": "code",
      "metadata": {
        "colab": {
          "base_uri": "https://localhost:8080/"
        },
        "id": "A_wEVCD5H2y6",
        "outputId": "88ff6254-f282-42aa-ff11-10e1f96eb40c"
      },
      "source": [
        "c1=np.linspace(1,10,10)\n",
        "c2 = np.linspace(0, np.pi, 20)\n",
        "print(c1)\n",
        "print(c2)"
      ],
      "execution_count": null,
      "outputs": [
        {
          "output_type": "stream",
          "text": [
            "[ 1.  2.  3.  4.  5.  6.  7.  8.  9. 10.]\n",
            "[0.         0.16534698 0.33069396 0.49604095 0.66138793 0.82673491\n",
            " 0.99208189 1.15742887 1.32277585 1.48812284 1.65346982 1.8188168\n",
            " 1.98416378 2.14951076 2.31485774 2.48020473 2.64555171 2.81089869\n",
            " 2.97624567 3.14159265]\n"
          ],
          "name": "stdout"
        }
      ]
    },
    {
      "cell_type": "markdown",
      "metadata": {
        "id": "cYtf2E8DIkHc"
      },
      "source": [
        "### 특별한 형태 배열 생성\n",
        "- 모든 원소가 0 혹은 1인 다차원 배열\n",
        "    - 0 zeros(n), zeros((m,n))\n",
        "    - 1 ones(n), ones((m,n))\n",
        "- 단위행렬 n * n 정사각형 행렬 주대각선이 모두 1 나머지 0\n",
        "    - arr_! = np.eye(n)\n"
      ]
    },
    {
      "cell_type": "code",
      "metadata": {
        "colab": {
          "base_uri": "https://localhost:8080/"
        },
        "id": "rewXdPBlIfa0",
        "outputId": "84d0fa08-1333-46a4-8369-919972fe6219"
      },
      "source": [
        "print(np.zeros((3,4)))\n",
        "print(np.ones((5,4)))\n",
        "print(np.eye(4))"
      ],
      "execution_count": null,
      "outputs": [
        {
          "output_type": "stream",
          "text": [
            "[[0. 0. 0. 0.]\n",
            " [0. 0. 0. 0.]\n",
            " [0. 0. 0. 0.]]\n",
            "[[1. 1. 1. 1.]\n",
            " [1. 1. 1. 1.]\n",
            " [1. 1. 1. 1.]\n",
            " [1. 1. 1. 1.]\n",
            " [1. 1. 1. 1.]]\n",
            "[[1. 0. 0. 0.]\n",
            " [0. 1. 0. 0.]\n",
            " [0. 0. 1. 0.]\n",
            " [0. 0. 0. 1.]]\n"
          ],
          "name": "stdout"
        }
      ]
    },
    {
      "cell_type": "markdown",
      "metadata": {
        "id": "9ZsIC1kDJLHP"
      },
      "source": [
        "### 배열의 데이터 타입 변환\n",
        "- 배열은 숫자뿐만 아니라 문자열도 원소로 가질 수 있음\n",
        "- num_arr = str_arr.astype(dtype)"
      ]
    },
    {
      "cell_type": "code",
      "metadata": {
        "id": "M4FJvRZ1JvfK",
        "colab": {
          "base_uri": "https://localhost:8080/"
        },
        "outputId": "cbf872b0-2856-4f0d-d10d-e39407685f3d"
      },
      "source": [
        "str_a1 = np.array(['1.5','0.62','2','3.14','3.141592'])\n",
        "str_a1"
      ],
      "execution_count": null,
      "outputs": [
        {
          "output_type": "execute_result",
          "data": {
            "text/plain": [
              "array(['1.5', '0.62', '2', '3.14', '3.141592'], dtype='<U8')"
            ]
          },
          "metadata": {
            "tags": []
          },
          "execution_count": 16
        }
      ]
    },
    {
      "cell_type": "code",
      "metadata": {
        "id": "2uX0eLV1JlqU",
        "colab": {
          "base_uri": "https://localhost:8080/"
        },
        "outputId": "a0733cd0-f2c9-4e1c-baf5-0b9ac8945749"
      },
      "source": [
        "float_a1 = str_a1.astype(float)\n",
        "float_a1"
      ],
      "execution_count": null,
      "outputs": [
        {
          "output_type": "execute_result",
          "data": {
            "text/plain": [
              "array([1.5     , 0.62    , 2.      , 3.14    , 3.141592])"
            ]
          },
          "metadata": {
            "tags": []
          },
          "execution_count": 17
        }
      ]
    },
    {
      "cell_type": "code",
      "metadata": {
        "colab": {
          "base_uri": "https://localhost:8080/"
        },
        "id": "-6aeINKgpw4B",
        "outputId": "4e7ede7a-c5f2-40f3-c339-e36f0376ee25"
      },
      "source": [
        "print(str_a1.dtype)\n",
        "print(float_a1.dtype)"
      ],
      "execution_count": null,
      "outputs": [
        {
          "output_type": "stream",
          "text": [
            "<U8\n",
            "float64\n"
          ],
          "name": "stdout"
        }
      ]
    },
    {
      "cell_type": "markdown",
      "metadata": {
        "id": "RSJ0Idjpqa6e"
      },
      "source": [
        "### 난수 배열\n",
        "- random 모듈을 이용해 임의의 숫자 난수를 생성\n",
        "- np.random.메소드\n",
        "- rand() - 실수 난수\n",
        "- randint() - 정수 난수"
      ]
    },
    {
      "cell_type": "code",
      "metadata": {
        "colab": {
          "base_uri": "https://localhost:8080/"
        },
        "id": "6Em5HYq2rdAB",
        "outputId": "1d6cdfa5-8cc1-4e90-d492-b9faae86a4a5"
      },
      "source": [
        "print(np.random.rand(2,3))\n",
        "print(np.random.rand())\n",
        "print(np.random.rand(2,3,4))\n",
        "print(np.random.randint(10, size=(3,4))) # 정수 0~9까지 3행,4열로 랜덤 정수 생성\n",
        "print(np.random.randint(1,30))"
      ],
      "execution_count": null,
      "outputs": [
        {
          "output_type": "stream",
          "text": [
            "[[0.35153187 0.03309282 0.52431391]\n",
            " [0.67001595 0.44910111 0.87149817]]\n",
            "0.9834234092697803\n",
            "[[[0.14121315 0.51642274 0.71129513 0.33696956]\n",
            "  [0.09759203 0.28770957 0.33068771 0.07533439]\n",
            "  [0.65554881 0.79168072 0.3181887  0.39951664]]\n",
            "\n",
            " [[0.51806154 0.43474242 0.41729448 0.95106238]\n",
            "  [0.50441477 0.12379002 0.88412068 0.34103537]\n",
            "  [0.98485368 0.11644713 0.21538353 0.95764685]]]\n",
            "[[0 2 9 2]\n",
            " [9 3 3 4]\n",
            " [2 9 6 7]]\n",
            "8\n"
          ],
          "name": "stdout"
        }
      ]
    },
    {
      "cell_type": "markdown",
      "metadata": {
        "id": "1PEQWcLCsUmo"
      },
      "source": [
        "### 배열의 연산\n",
        "- 1차원 배열의 원소 개수가 같은 배열끼리 사칙연산\n",
        "- 2차원 배열 m * n행렬에서 행렬끼리 m과 n이 같은 경우\n",
        "- 배열의 같은 위치의 원소끼리 더함\n",
        "- 사칙연산\n",
        "- 통계연산\n",
        "    - sum(), mean(), 표준편차: std(), 분산: var(), 누적합: cumsum(), 누적곱: cumprod()\n",
        "- 행렬연산\n",
        "    - 곱행렬, 전치 행렬, 역행렬, 행렬식"
      ]
    },
    {
      "cell_type": "code",
      "metadata": {
        "id": "tNARLtaGwSB4"
      },
      "source": [
        "# 사칙연산\n",
        "arr1 = np.array([10,20,30,40])\n",
        "arr2 = np.array([1,2,3,4])"
      ],
      "execution_count": null,
      "outputs": []
    },
    {
      "cell_type": "code",
      "metadata": {
        "colab": {
          "base_uri": "https://localhost:8080/"
        },
        "id": "qZ2kEfx9wUTm",
        "outputId": "5d92d7fa-5b66-467b-cf66-72093e9ebcad"
      },
      "source": [
        "# 덧셈\n",
        "print(arr1+arr2)\n",
        "# 뺄셈\n",
        "print(arr1-arr2)\n",
        "# 곱\n",
        "print(arr1*arr2)\n",
        "# 나누기\n",
        "print(arr1/arr2)\n",
        "# bool\n",
        "print(arr1<20)"
      ],
      "execution_count": null,
      "outputs": [
        {
          "output_type": "stream",
          "text": [
            "[11 22 33 44]\n",
            "[ 9 18 27 36]\n",
            "[ 10  40  90 160]\n",
            "[10. 10. 10. 10.]\n",
            "[ True False False False]\n"
          ],
          "name": "stdout"
        }
      ]
    },
    {
      "cell_type": "code",
      "metadata": {
        "colab": {
          "base_uri": "https://localhost:8080/"
        },
        "id": "6TxoGIYU1Zub",
        "outputId": "116ba392-4dc6-4b4b-9797-8495cc790d9e"
      },
      "source": [
        "# 통계 연산\n",
        "arr3 = np.arange(1,5)\n",
        "arr3"
      ],
      "execution_count": null,
      "outputs": [
        {
          "output_type": "execute_result",
          "data": {
            "text/plain": [
              "array([1, 2, 3, 4])"
            ]
          },
          "metadata": {
            "tags": []
          },
          "execution_count": 42
        }
      ]
    },
    {
      "cell_type": "code",
      "metadata": {
        "colab": {
          "base_uri": "https://localhost:8080/"
        },
        "id": "jQNmzmmI1bSE",
        "outputId": "9027549c-17d4-4433-820a-70d5628b2594"
      },
      "source": [
        "print(arr3.sum()) # 합\n",
        "print(arr3.mean()) # 평균\n",
        "print(arr3.std()) # 표준편차\n",
        "print(arr3.var()) # 분산\n",
        "print(arr3.min()) # 최소값\n",
        "print(arr3.max()) # 최대값\n",
        "print(arr3.cumsum()) # 누적합\n",
        "print(arr3.cumprod()) # 누적곱"
      ],
      "execution_count": null,
      "outputs": [
        {
          "output_type": "stream",
          "text": [
            "10\n",
            "2.5\n",
            "1.118033988749895\n",
            "1.25\n",
            "1\n",
            "4\n",
            "[ 1  3  6 10]\n",
            "[ 1  2  6 24]\n"
          ],
          "name": "stdout"
        }
      ]
    },
    {
      "cell_type": "code",
      "metadata": {
        "id": "Xa1-G01L1hIW"
      },
      "source": [
        "# 행렬 연산\n",
        "A = np.array([0,1,2,3]).reshape(2,2)\n",
        "B = np.array([3,2,0,1]).reshape(2,2)"
      ],
      "execution_count": null,
      "outputs": []
    },
    {
      "cell_type": "code",
      "metadata": {
        "colab": {
          "base_uri": "https://localhost:8080/"
        },
        "id": "-X1CQ5M44FMv",
        "outputId": "21d63a32-ecd9-40c8-c772-10b9f79fad9e"
      },
      "source": [
        "print(A.dot(B)) # A*B\n",
        "print(np.dot(B,A)) # B*A\n",
        "print(np.transpose(A)) # A의 전치 행렬\n",
        "print(B.T) # B의 전치횅렬\n",
        "print(np.linalg.inv(A)) # A의 역행렬\n",
        "print(np.linalg.det(A)) # A의 행렬식"
      ],
      "execution_count": null,
      "outputs": [
        {
          "output_type": "stream",
          "text": [
            "[[0 1]\n",
            " [6 7]]\n",
            "[[4 9]\n",
            " [2 3]]\n",
            "[[0 2]\n",
            " [1 3]]\n",
            "[[3 0]\n",
            " [2 1]]\n",
            "[[-1.5  0.5]\n",
            " [ 1.   0. ]]\n",
            "-2.0\n"
          ],
          "name": "stdout"
        }
      ]
    },
    {
      "cell_type": "markdown",
      "metadata": {
        "id": "TarN5h185nfS"
      },
      "source": [
        "### 배열의 인덱싱과 슬라이싱\n",
        "- 인덱싱: 배열의 위치나 조건을 지정해 배열의 원소를 선택\n",
        "    - 새로운 값을 입력할 때 'np.array(seq_data)'를 이용해도 되고 리스트를 이용해도 됨\n",
        "- 슬라이싱 : 범위를 지정해 배열의 원소를 선택하는 것을 슬라이싱"
      ]
    },
    {
      "cell_type": "code",
      "metadata": {
        "colab": {
          "base_uri": "https://localhost:8080/"
        },
        "id": "oOQzEJd-5yHQ",
        "outputId": "01919dd2-0692-4cf8-fc58-ece3dcf71cd6"
      },
      "source": [
        "# 1차원 배열 인덱싱\n",
        "a1 = np.array([0,10,20,30,40,50])\n",
        "a1"
      ],
      "execution_count": null,
      "outputs": [
        {
          "output_type": "execute_result",
          "data": {
            "text/plain": [
              "array([ 0, 10, 20, 30, 40, 50])"
            ]
          },
          "metadata": {
            "tags": []
          },
          "execution_count": 49
        }
      ]
    },
    {
      "cell_type": "code",
      "metadata": {
        "colab": {
          "base_uri": "https://localhost:8080/"
        },
        "id": "SAedBvo78TIB",
        "outputId": "29eb2c74-eacb-4759-d0c9-a59867cae848"
      },
      "source": [
        "print(a1[1])\n",
        "print(a1[[1,3,4]])"
      ],
      "execution_count": null,
      "outputs": [
        {
          "output_type": "stream",
          "text": [
            "10\n",
            "[10 30 40]\n"
          ],
          "name": "stdout"
        }
      ]
    },
    {
      "cell_type": "code",
      "metadata": {
        "colab": {
          "base_uri": "https://localhost:8080/"
        },
        "id": "beKg_lKh8vKj",
        "outputId": "72c96878-de60-40c5-af89-ce8d9e8a44a2"
      },
      "source": [
        "# 2차원 배열 인덱싱\n",
        "a2 = np.arange(10,100,10).reshape(3,3)\n",
        "a2"
      ],
      "execution_count": null,
      "outputs": [
        {
          "output_type": "execute_result",
          "data": {
            "text/plain": [
              "array([[10, 20, 30],\n",
              "       [40, 50, 60],\n",
              "       [70, 80, 90]])"
            ]
          },
          "metadata": {
            "tags": []
          },
          "execution_count": 51
        }
      ]
    },
    {
      "cell_type": "code",
      "metadata": {
        "colab": {
          "base_uri": "https://localhost:8080/"
        },
        "id": "5KePdgoR81Wj",
        "outputId": "bd3b6662-4cd6-4209-8cae-fd0ee6ffc497"
      },
      "source": [
        "print(a2[0,2]) # [열위치,행위치] 열 위치: 0 에 행위치: 2 를 출력하라\n",
        "print(a2[2,1])"
      ],
      "execution_count": null,
      "outputs": [
        {
          "output_type": "stream",
          "text": [
            "30\n",
            "80\n"
          ],
          "name": "stdout"
        }
      ]
    },
    {
      "cell_type": "code",
      "metadata": {
        "colab": {
          "base_uri": "https://localhost:8080/"
        },
        "id": "QD9AmPd09gZf",
        "outputId": "d7e3e3d4-c482-488f-e0d9-dee4ab705db2"
      },
      "source": [
        "# 행의 값 수정\n",
        "a2[0] = np.array([1,2,3])\n",
        "print(a2)\n",
        "a2[1]=[4,5,6]\n",
        "print(a2)"
      ],
      "execution_count": null,
      "outputs": [
        {
          "output_type": "stream",
          "text": [
            "[[ 1  2  3]\n",
            " [40 50 60]\n",
            " [70 80 90]]\n",
            "[[ 1  2  3]\n",
            " [ 4  5  6]\n",
            " [70 80 90]]\n"
          ],
          "name": "stdout"
        }
      ]
    },
    {
      "cell_type": "code",
      "metadata": {
        "colab": {
          "base_uri": "https://localhost:8080/"
        },
        "id": "Ho0fT5xS-frn",
        "outputId": "676d2078-879e-45e4-c9c9-8149b1b666a7"
      },
      "source": [
        "# 행과 열의 위치를 지정해 원소 출력\n",
        "a2[[0,2],[0,1]]"
      ],
      "execution_count": null,
      "outputs": [
        {
          "output_type": "execute_result",
          "data": {
            "text/plain": [
              "array([ 1, 80])"
            ]
          },
          "metadata": {
            "tags": []
          },
          "execution_count": 56
        }
      ]
    },
    {
      "cell_type": "code",
      "metadata": {
        "colab": {
          "base_uri": "https://localhost:8080/"
        },
        "id": "_JobP-OR-d4r",
        "outputId": "0c4dbdef-ddf5-4245-89f3-6efcb4e32e85"
      },
      "source": [
        "# 조건을 지정해 조건에 맞는 배열의 원소\n",
        "a = np.array([1, 2, 3, 4, 5, 6])\n",
        "a[a > 3]"
      ],
      "execution_count": null,
      "outputs": [
        {
          "output_type": "execute_result",
          "data": {
            "text/plain": [
              "array([4, 5, 6])"
            ]
          },
          "metadata": {
            "tags": []
          },
          "execution_count": 55
        }
      ]
    },
    {
      "cell_type": "code",
      "metadata": {
        "colab": {
          "base_uri": "https://localhost:8080/"
        },
        "id": "VZxW2vTv_H6r",
        "outputId": "94dcbdef-93da-49bf-d02e-5439bee19f12"
      },
      "source": [
        "# 슬라이싱\n",
        "b2 = np.arange(10, 100, 10).reshape(3,3)\n",
        "b2"
      ],
      "execution_count": null,
      "outputs": [
        {
          "output_type": "execute_result",
          "data": {
            "text/plain": [
              "array([[10, 20, 30],\n",
              "       [40, 50, 60],\n",
              "       [70, 80, 90]])"
            ]
          },
          "metadata": {
            "tags": []
          },
          "execution_count": 57
        }
      ]
    },
    {
      "cell_type": "code",
      "metadata": {
        "colab": {
          "base_uri": "https://localhost:8080/"
        },
        "id": "w_FUJh6M_LvL",
        "outputId": "581f9939-66f6-48b2-d787-a991067674c7"
      },
      "source": [
        "# 2차원 배열에서 '행_시작_위치:행끝위치, 열_시작_위치:열끝위치'를 지정\n",
        "b2[1:3,1:3]"
      ],
      "execution_count": null,
      "outputs": [
        {
          "output_type": "execute_result",
          "data": {
            "text/plain": [
              "array([[50, 60],\n",
              "       [80, 90]])"
            ]
          },
          "metadata": {
            "tags": []
          },
          "execution_count": 58
        }
      ]
    },
    {
      "cell_type": "markdown",
      "metadata": {
        "id": "8l9658KdJpuq"
      },
      "source": [
        "## 11.2 Pandas\n",
        "- 다량의 데이터를 처리가능\n",
        "- pandas 자료구조\n",
        "    - Series : 1차원\n",
        "    - DataFrame : 2차원\n",
        "    - Panel : 3차원\n",
        "- `Series` - 1차원 배열, 복수의 행(row)과 하나의 열로 구성, Index로 데이터에 접근\n",
        "    - s =pd.Series(seq_data)\n",
        "    - pandas의 경우에는 원소의 데이터 타입이 달라도 됨\n",
        "    - s = pd.Series(seq_data, index = index_seq)\n",
        "    - 인자로 index를 명시적으로 입력하면 Series 변수(s)의 index에는 자동 생성되는 index 대신\n",
        "    - 입력 인자로 딕셔너리 데이터를 입력하면 딕셔너리 데이터의 키(keys)와값(values)이 각각 Series 데이터의 index와 values로 들어감\n",
        "index_Seq가 들어가게 됨\n",
        "- DataFrame - 2차원 배열, 테이블 형식의 data, index, columns으로 구성"
      ]
    },
    {
      "cell_type": "code",
      "metadata": {
        "id": "hEBnkHLtST1f"
      },
      "source": [
        "import numpy as np\n",
        "import pandas as pd"
      ],
      "execution_count": null,
      "outputs": []
    },
    {
      "cell_type": "code",
      "metadata": {
        "colab": {
          "base_uri": "https://localhost:8080/"
        },
        "id": "jOqtAZ4OBUkl",
        "outputId": "758e17bc-ac7a-4d2b-99ff-e937ad2ea7be"
      },
      "source": [
        "s1=pd.Series([10,20,30,40,50])\n",
        "s1"
      ],
      "execution_count": null,
      "outputs": [
        {
          "output_type": "execute_result",
          "data": {
            "text/plain": [
              "0    10\n",
              "1    20\n",
              "2    30\n",
              "3    40\n",
              "4    50\n",
              "dtype: int64"
            ]
          },
          "metadata": {
            "tags": []
          },
          "execution_count": 60
        }
      ]
    },
    {
      "cell_type": "code",
      "metadata": {
        "colab": {
          "base_uri": "https://localhost:8080/"
        },
        "id": "8ZhUHY1jCGE1",
        "outputId": "e37d9985-2b89-4ed7-d81f-2bda2579e838"
      },
      "source": [
        "s2 = pd.Series(['a', 'b', 'c', 1, 2, 3])\n",
        "s2"
      ],
      "execution_count": null,
      "outputs": [
        {
          "output_type": "execute_result",
          "data": {
            "text/plain": [
              "0    a\n",
              "1    b\n",
              "2    c\n",
              "3    1\n",
              "4    2\n",
              "5    3\n",
              "dtype: object"
            ]
          },
          "metadata": {
            "tags": []
          },
          "execution_count": 61
        }
      ]
    },
    {
      "cell_type": "code",
      "metadata": {
        "colab": {
          "base_uri": "https://localhost:8080/"
        },
        "id": "Q3lk9g9haeNU",
        "outputId": "1fbf30de-926c-4c86-ad20-ec52588286c1"
      },
      "source": [
        "# NaN은 데이터가 없다는 것을 의미\n",
        "# 데이터를 위한 자리(index)는 있지만 실제 값은 없음\n",
        "# s3 = pd.Series([np.nan,10,30])\n",
        "s3 = pd.Series([None,10,30])\n",
        "s3"
      ],
      "execution_count": null,
      "outputs": [
        {
          "output_type": "execute_result",
          "data": {
            "text/plain": [
              "0     NaN\n",
              "1    10.0\n",
              "2    30.0\n",
              "dtype: float64"
            ]
          },
          "metadata": {
            "tags": []
          },
          "execution_count": 64
        }
      ]
    },
    {
      "cell_type": "code",
      "metadata": {
        "colab": {
          "base_uri": "https://localhost:8080/"
        },
        "id": "nZhCTGQNagZ9",
        "outputId": "d2789629-0e6e-4c5e-e774-4586a500a0c6"
      },
      "source": [
        "index_data = pd.date_range('2018-10-07', periods=4)\n",
        "s4 = pd.Series([200,195,None,205], index=index_data)\n",
        "s4"
      ],
      "execution_count": null,
      "outputs": [
        {
          "output_type": "execute_result",
          "data": {
            "text/plain": [
              "2018-10-07    200.0\n",
              "2018-10-08    195.0\n",
              "2018-10-09      NaN\n",
              "2018-10-10    205.0\n",
              "Freq: D, dtype: float64"
            ]
          },
          "metadata": {
            "tags": []
          },
          "execution_count": 65
        }
      ]
    },
    {
      "cell_type": "code",
      "metadata": {
        "colab": {
          "base_uri": "https://localhost:8080/"
        },
        "id": "qkzWtNVDffFe",
        "outputId": "149424b7-d4fc-408e-d513-72e5c9ad5ffa"
      },
      "source": [
        "s5 = pd.Series({'국어': 100, '영어': 95, '수학': 90})\n",
        "s5"
      ],
      "execution_count": null,
      "outputs": [
        {
          "output_type": "execute_result",
          "data": {
            "text/plain": [
              "국어    100\n",
              "영어     95\n",
              "수학     90\n",
              "dtype: int64"
            ]
          },
          "metadata": {
            "tags": []
          },
          "execution_count": 66
        }
      ]
    },
    {
      "cell_type": "markdown",
      "metadata": {
        "id": "4FXlT3cSfkaB"
      },
      "source": [
        "### data_range\n",
        "- 날짜 제공하는 메소드\n",
        "- 원하는 날짜를 자동으로 생성하므로 날짜 데이터를 입력 할 때 편리\n",
        "- pd.date_range(start=None, end=None, periods=None, freq='D')\n",
        "- start는 시작 날짜，end는 끝 날짜，periods는 날짜 데이터 생성 기간，freq는 날짜 데이터생성 주기\n",
        "- freq 명령어에 따라 다양한 주기로 생성됨\n",
        "    - 2D, W , 2BM, QS.."
      ]
    },
    {
      "cell_type": "code",
      "metadata": {
        "colab": {
          "base_uri": "https://localhost:8080/"
        },
        "id": "GXt4kiDPiAP2",
        "outputId": "e3cb83ea-ed40-4842-ae33-787e74a81332"
      },
      "source": [
        "pd.date_range(start='2019-01-01', periods = 12, freq = '2BM')"
      ],
      "execution_count": null,
      "outputs": [
        {
          "output_type": "execute_result",
          "data": {
            "text/plain": [
              "DatetimeIndex(['2019-01-31', '2019-03-29', '2019-05-31', '2019-07-31',\n",
              "               '2019-09-30', '2019-11-29', '2020-01-31', '2020-03-31',\n",
              "               '2020-05-29', '2020-07-31', '2020-09-30', '2020-11-30'],\n",
              "              dtype='datetime64[ns]', freq='2BM')"
            ]
          },
          "metadata": {
            "tags": []
          },
          "execution_count": 67
        }
      ]
    },
    {
      "cell_type": "code",
      "metadata": {
        "id": "Q5P53kPNSgiu"
      },
      "source": [
        ""
      ],
      "execution_count": null,
      "outputs": []
    }
  ]
}