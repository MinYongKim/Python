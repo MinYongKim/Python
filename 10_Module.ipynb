{
  "nbformat": 4,
  "nbformat_minor": 0,
  "metadata": {
    "colab": {
      "name": "10_Module.ipynb",
      "provenance": [],
      "collapsed_sections": [],
      "authorship_tag": "ABX9TyO/R6TXOnMQrLWBopv6kPm9",
      "include_colab_link": true
    },
    "kernelspec": {
      "name": "python3",
      "display_name": "Python 3"
    },
    "language_info": {
      "name": "python"
    }
  },
  "cells": [
    {
      "cell_type": "markdown",
      "metadata": {
        "id": "view-in-github",
        "colab_type": "text"
      },
      "source": [
        "<a href=\"https://colab.research.google.com/github/MinYongKim/Python/blob/master/10_Module.ipynb\" target=\"_parent\"><img src=\"https://colab.research.google.com/assets/colab-badge.svg\" alt=\"Open In Colab\"/></a>"
      ]
    },
    {
      "cell_type": "markdown",
      "metadata": {
        "id": "u3iCkKlFL7Lw"
      },
      "source": [
        "# 10. 모듈(Module)\n",
        "- 파이썬에서는 코드가 저장된 파일을 모듈이라고함\n",
        "- 함수, 변수, 클래스\n",
        "- 코드 작성과 관리가 용이하다\n",
        "\n",
        "## 10.1 모듈 만들기\n",
        "- '모듈명'.py\n",
        "- 내장 마술 명령어(magic command)인 ’%%writefile'을 이용해 코드를\n",
        "파일로 저장\n",
        "    - 저장 `%%writefile [-a] file.py`\n",
        "    - 불러오기 `%%load file.py`\n",
        "    - 실행 `%%run file.py`"
      ]
    },
    {
      "cell_type": "code",
      "metadata": {
        "colab": {
          "base_uri": "https://localhost:8080/"
        },
        "id": "hUqwOM_ML1jD",
        "outputId": "f42f8116-8510-4446-9768-1c790fba1ec8"
      },
      "source": [
        "%%writefile my_first_module.py\n",
        "\n",
        "def my_function():\n",
        "    print(\"This is my first module.\")"
      ],
      "execution_count": null,
      "outputs": [
        {
          "output_type": "stream",
          "text": [
            "Writing my_first_module.py\n"
          ],
          "name": "stdout"
        }
      ]
    },
    {
      "cell_type": "code",
      "metadata": {
        "colab": {
          "base_uri": "https://localhost:8080/"
        },
        "id": "nkASDrL-ccH0",
        "outputId": "93776a40-e984-4e0c-a4a3-f33678e14aba"
      },
      "source": [
        "!cat my_first_module.py"
      ],
      "execution_count": null,
      "outputs": [
        {
          "output_type": "stream",
          "text": [
            "\n",
            "def my_function():\n",
            "    print(\"This is my first module.\")"
          ],
          "name": "stdout"
        }
      ]
    },
    {
      "cell_type": "markdown",
      "metadata": {
        "id": "LsSjJniFchBH"
      },
      "source": [
        "## 10.2 모듈 불러오기\n",
        "- import 모듈명\n",
        "- 모듈명.변수, 모듈명.함수(), 모듈명.클래스()로  실행\n",
        "- 모듈 내용 확인\n",
        "    - dir(모듈명)\n",
        "- 모듈 이름을 붙이지 않고 바로 해당 모듈의 함수를 쓸 수 있다\n",
        "    - from 모듈이름 import 모듈함수\n",
        "    - `from 모듈이름 improt *` 모든 함수를 불러서 사용"
      ]
    },
    {
      "cell_type": "code",
      "metadata": {
        "colab": {
          "base_uri": "https://localhost:8080/"
        },
        "id": "pClRevW5easN",
        "outputId": "8810db63-a646-47ef-c28f-6d0f1e53660f"
      },
      "source": [
        "%%writefile my_area.py\n",
        "\n",
        "PI = 3.14\n",
        "def square_area(a):\n",
        "    return a**2\n",
        "\n",
        "def circle_area(r):\n",
        "    return PI * r**2\n",
        "\n",
        "def circle_len(r):\n",
        "    return 2*PI*r"
      ],
      "execution_count": null,
      "outputs": [
        {
          "output_type": "stream",
          "text": [
            "Writing my_area.py\n"
          ],
          "name": "stdout"
        }
      ]
    },
    {
      "cell_type": "code",
      "metadata": {
        "colab": {
          "base_uri": "https://localhost:8080/"
        },
        "id": "wtPkA1p6ip8t",
        "outputId": "f76c2448-a5da-421f-f3e3-044d127ebaa8"
      },
      "source": [
        "import my_area\n",
        "\n",
        "dir(my_area)\n",
        "\n",
        "print('pi=', my_area.PI)\n",
        "print(\"길이: {0}, 정사각형 넓이 : {1}\".format(3, my_area.square_area(3)))\n",
        "print(\"반지름: {0}, 원의 넓이 : {1}\".format(2, my_area.circle_area(2)))\n",
        "print('circle_len=', my_area.circle_len(3))\n"
      ],
      "execution_count": null,
      "outputs": [
        {
          "output_type": "stream",
          "text": [
            "pi= 3.14\n",
            "길이: 3, 정사각형 넓이 : 9\n",
            "반지름: 2, 원의 넓이 : 12.56\n",
            "circle_len= 18.84\n"
          ],
          "name": "stdout"
        }
      ]
    },
    {
      "cell_type": "code",
      "metadata": {
        "colab": {
          "base_uri": "https://localhost:8080/"
        },
        "id": "yZPq2xnBiw5k",
        "outputId": "83190743-dcd9-4bbf-9346-4a163a751327"
      },
      "source": [
        "# from my_area import square_area,circle_area\n",
        "from my_area import *\n",
        "\n",
        "print(PI)\n",
        "print(circle_area(3))\n",
        "print(square_area(4))\n",
        "print(circle_len(2))"
      ],
      "execution_count": null,
      "outputs": [
        {
          "output_type": "stream",
          "text": [
            "3.14\n",
            "28.26\n",
            "16\n",
            "12.56\n"
          ],
          "name": "stdout"
        }
      ]
    },
    {
      "cell_type": "markdown",
      "metadata": {
        "id": "fjMuNnOrwZqA"
      },
      "source": [
        "## * 2개 이상의 모듈을 사용시 주의 할점\n",
        "> func2()는 my_module1 에도 있고 my_module2에도 있음\n",
        "> 공통으로 있는 func2는 어떤 것이 실행될까?\n",
        "\n",
        "- 나중에 선언해서 불러온 모듈의 함수가 호출됨\n"
      ]
    },
    {
      "cell_type": "code",
      "metadata": {
        "colab": {
          "base_uri": "https://localhost:8080/"
        },
        "id": "OmYK-_D0pruh",
        "outputId": "17f45f12-7634-4424-f7d2-4101efc466b6"
      },
      "source": [
        "%%writefile my_module1.py\n",
        "\n",
        "def func1():\n",
        "    print(\"func1 in my_module1\")\n",
        "\n",
        "def func2():\n",
        "    print(\"func2 in my_module1\")"
      ],
      "execution_count": null,
      "outputs": [
        {
          "output_type": "stream",
          "text": [
            "Writing my_module1.py\n"
          ],
          "name": "stdout"
        }
      ]
    },
    {
      "cell_type": "code",
      "metadata": {
        "colab": {
          "base_uri": "https://localhost:8080/"
        },
        "id": "xIk1SXwywkSV",
        "outputId": "9c5a38c4-5eef-4dd5-97a5-38c5574076eb"
      },
      "source": [
        "%%writefile my_module2.py\n",
        "\n",
        "def func2():\n",
        "    print(\"func2 in my_module2\")\n",
        "\n",
        "def func3():\n",
        "    print(\"func3 in my_module2\")"
      ],
      "execution_count": null,
      "outputs": [
        {
          "output_type": "stream",
          "text": [
            "Writing my_module2.py\n"
          ],
          "name": "stdout"
        }
      ]
    },
    {
      "cell_type": "code",
      "metadata": {
        "colab": {
          "base_uri": "https://localhost:8080/"
        },
        "id": "lzdKM2kXwkKg",
        "outputId": "f1a0f2c2-1f6f-4265-c89b-5a285d5a557b"
      },
      "source": [
        "from my_module1 import *\n",
        "from my_module2 import *\n",
        "\n",
        "func1()\n",
        "func2()\n",
        "func3()"
      ],
      "execution_count": null,
      "outputs": [
        {
          "output_type": "stream",
          "text": [
            "func1 in my_module1\n",
            "func2 in my_module2\n",
            "func3 in my_module2\n"
          ],
          "name": "stdout"
        }
      ]
    },
    {
      "cell_type": "code",
      "metadata": {
        "colab": {
          "base_uri": "https://localhost:8080/"
        },
        "id": "Ek23fPwFxGhN",
        "outputId": "ae70bca0-a78a-477b-f551-8a7f4542175f"
      },
      "source": [
        "from my_module2 import *\n",
        "from my_module1 import *\n",
        "\n",
        "func1()\n",
        "func2()\n",
        "func3()"
      ],
      "execution_count": null,
      "outputs": [
        {
          "output_type": "stream",
          "text": [
            "func1 in my_module1\n",
            "func2 in my_module1\n",
            "func3 in my_module2\n"
          ],
          "name": "stdout"
        }
      ]
    },
    {
      "cell_type": "markdown",
      "metadata": {
        "id": "OJ_u0hcj4tDU"
      },
      "source": [
        "## 10.3 모듈 확인\n",
        "- %run 모듈명.py \n",
        "- import 모듈명\n",
        "- 모듈을 직접 수행하는경우와 import해서 이용하는 경우를 구분\n",
        "    - if__name__ == \"__main__\": <직접 수행할 때만 실행되는 코드)\n",
        "    - else: <임포트됐을 때만 실행 되는 코드>\n"
      ]
    },
    {
      "cell_type": "code",
      "metadata": {
        "colab": {
          "base_uri": "https://localhost:8080/"
        },
        "id": "vzKrzzL6xaUN",
        "outputId": "411938f1-ab4a-441b-edb3-d593948e6a0e"
      },
      "source": [
        "%%writefile my_module_test1.py\n",
        "\n",
        "def func(a):\n",
        "    print(\"입력 숫자\", a)\n",
        "\n",
        "func(3)"
      ],
      "execution_count": null,
      "outputs": [
        {
          "output_type": "stream",
          "text": [
            "Overwriting my_module_test1.py\n"
          ],
          "name": "stdout"
        }
      ]
    },
    {
      "cell_type": "code",
      "metadata": {
        "colab": {
          "base_uri": "https://localhost:8080/"
        },
        "id": "iMEs1hTN5PU7",
        "outputId": "1d671db6-703c-4b15-8d40-5f4bb848014a"
      },
      "source": [
        "%run my_module_test1.py"
      ],
      "execution_count": null,
      "outputs": [
        {
          "output_type": "stream",
          "text": [
            "입력 숫자 3\n"
          ],
          "name": "stdout"
        }
      ]
    },
    {
      "cell_type": "code",
      "metadata": {
        "colab": {
          "base_uri": "https://localhost:8080/"
        },
        "id": "O1cXw3zs5HNx",
        "outputId": "5eca5401-7b1f-45ff-c193-6286a664f90b"
      },
      "source": [
        "import my_module_test1"
      ],
      "execution_count": null,
      "outputs": [
        {
          "output_type": "stream",
          "text": [
            "입력 숫자 3\n"
          ],
          "name": "stdout"
        }
      ]
    },
    {
      "cell_type": "code",
      "metadata": {
        "colab": {
          "base_uri": "https://localhost:8080/"
        },
        "id": "r2xnTcQu5Ij_",
        "outputId": "ebaa269c-e51c-4835-a604-03fbf2fbdd0c"
      },
      "source": [
        "%%writefile my_module_test2.py\n",
        "\n",
        "def func(a):\n",
        "    print(\"입력 숫자\", a)\n",
        "    \n",
        "if __name__ == \"__main__\" :\n",
        "    print(\"모듈을 직접 실행\")\n",
        "    func(3)\n",
        "    func(4)\n",
        "else :\n",
        "    print(\"임포트시 실행\")    "
      ],
      "execution_count": null,
      "outputs": [
        {
          "output_type": "stream",
          "text": [
            "Overwriting my_module_test2.py\n"
          ],
          "name": "stdout"
        }
      ]
    },
    {
      "cell_type": "code",
      "metadata": {
        "colab": {
          "base_uri": "https://localhost:8080/"
        },
        "id": "j1fT8SBe6_BY",
        "outputId": "b735f085-a7a0-415d-b6bd-5bca2a99b535"
      },
      "source": [
        "%run my_module_test2.py"
      ],
      "execution_count": null,
      "outputs": [
        {
          "output_type": "stream",
          "text": [
            "모듈을 직접 실행\n",
            "입력 숫자 3\n",
            "입력 숫자 4\n"
          ],
          "name": "stdout"
        }
      ]
    },
    {
      "cell_type": "code",
      "metadata": {
        "colab": {
          "base_uri": "https://localhost:8080/"
        },
        "id": "ZV6mwG257AX3",
        "outputId": "dc1e66e0-7e1b-4f94-acfc-3ff5739feb65"
      },
      "source": [
        "import my_module_test2"
      ],
      "execution_count": null,
      "outputs": [
        {
          "output_type": "stream",
          "text": [
            "임포트시 실행\n"
          ],
          "name": "stdout"
        }
      ]
    },
    {
      "cell_type": "markdown",
      "metadata": {
        "id": "Qa8tNSoODHvj"
      },
      "source": [
        "## 10.4 내장 모듈\n",
        "- random 모듈 임의로 숫자를 발생\n",
        "- datatime 모듈 날짜 및 시간\n",
        "    - date, time, datetime\n",
        "- calendar 모듈 연도/월/주 등 달력\n",
        "    - 월요일은 0, 화요일은 1, 수요일은 2, 목요일은 3, 금요일은 4, 토요일은 5, 일요일은 6\n",
        "- 파이썬 표준 라이브러리에 관해 설명 한 사이트\n",
        "    - https://docs.python.org/ko/3.9/library/"
      ]
    },
    {
      "cell_type": "code",
      "metadata": {
        "id": "TOgIqKHt8nBf"
      },
      "source": [
        "import random"
      ],
      "execution_count": null,
      "outputs": []
    },
    {
      "cell_type": "code",
      "metadata": {
        "colab": {
          "base_uri": "https://localhost:8080/"
        },
        "id": "cEv7NE1vKB6y",
        "outputId": "4d82ae4b-4685-408c-d354-14556d783a6d"
      },
      "source": [
        "# 0.0〈= 실수 < 1.0 범위의 임의의 실수를 반환\n",
        "print(random.random())\n",
        "\n",
        "# a <= 정수 <= b의 범위의 임의의정수 반환\n",
        "print(random.randint(1,45))\n",
        "\n",
        "# range([start,] stop [,step])에서 임의의 정수를 반환\n",
        "print(random.randrange(0,10,2))\n",
        "\n",
        "# 공백이 아닌 시퀀스(seq)에서 임의의 항목을 반환\n",
        "print(random.choice([1,2,3]))\n",
        "\n",
        "# 시퀀스로 이뤄진 모집단(population)에서 중복되지 않는 k개의 인자를 반환\n",
        "print(random.sample([1,2,3,4,5], 2))"
      ],
      "execution_count": null,
      "outputs": [
        {
          "output_type": "stream",
          "text": [
            "0.2703852602220661\n",
            "2\n",
            "0\n",
            "3\n",
            "[4, 2]\n"
          ],
          "name": "stdout"
        }
      ]
    },
    {
      "cell_type": "code",
      "metadata": {
        "id": "hgyIfz-0KGjf",
        "colab": {
          "base_uri": "https://localhost:8080/"
        },
        "outputId": "5850d551-5aca-4ab5-e0a0-47abc62b98ae"
      },
      "source": [
        "import datetime\n",
        "\n",
        "set_day = datetime.date(2021,8,4)\n",
        "print(set_day)\n",
        "\n",
        "print(\"{0}/{1}/2\".format(set_day.year, set_day.month, set_day.day))"
      ],
      "execution_count": 1,
      "outputs": [
        {
          "output_type": "stream",
          "text": [
            "2021-08-04\n",
            "2021/8/2\n"
          ],
          "name": "stdout"
        }
      ]
    },
    {
      "cell_type": "code",
      "metadata": {
        "colab": {
          "base_uri": "https://localhost:8080/"
        },
        "id": "RqMBU9f61MNP",
        "outputId": "f8384933-60da-49bf-e07f-d20554d71f53"
      },
      "source": [
        "day1 = datetime.date(2021,8,4)\n",
        "day2 = datetime.date(2021,7,12)\n",
        "diff_day = day1-day2\n",
        "print(diff_day)\n",
        "print(type(day1))\n",
        "print(type(diff_day))"
      ],
      "execution_count": 4,
      "outputs": [
        {
          "output_type": "stream",
          "text": [
            "23 days, 0:00:00\n",
            "<class 'datetime.date'>\n",
            "<class 'datetime.timedelta'>\n"
          ],
          "name": "stdout"
        }
      ]
    },
    {
      "cell_type": "code",
      "metadata": {
        "id": "OozISYLY1Sf2"
      },
      "source": [
        "# 전체 달력\n",
        "import calendar\n",
        "\n",
        "# 기본 3열씩 출력\n",
        "print(calendar.calendar(2021)) "
      ],
      "execution_count": null,
      "outputs": []
    },
    {
      "cell_type": "code",
      "metadata": {
        "colab": {
          "base_uri": "https://localhost:8080/"
        },
        "id": "UJEJSufwpQDe",
        "outputId": "c7f91a65-1545-4b38-84b4-cf710635f7b1"
      },
      "source": [
        "# 특정 월\n",
        "print(calendar.month(2021,8))\n",
        "\n",
        "# 연도,월 일 날짜에 해당하는 요일 정보\n",
        "print(calendar.weekday(2021,8,25))\n",
        "\n",
        "#  입력 받은 달의 1일의 요일과 몇일까지 튜플로 출력\n",
        "print(calendar.monthrange(2021,8))\n",
        "\n",
        "# 일주일의 시작 요일 변경\n",
        "# calendar.setfirstweekday(calendar.SUNDAY) 기본값 월요일 -> 일요일\n",
        "\n",
        "# 윤년확인\n",
        "print(calendar.isleap(2020))\n",
        "print(calendar.isleap(2021))"
      ],
      "execution_count": 10,
      "outputs": [
        {
          "output_type": "stream",
          "text": [
            "    August 2021\n",
            "Mo Tu We Th Fr Sa Su\n",
            "                   1\n",
            " 2  3  4  5  6  7  8\n",
            " 9 10 11 12 13 14 15\n",
            "16 17 18 19 20 21 22\n",
            "23 24 25 26 27 28 29\n",
            "30 31\n",
            "\n",
            "2\n",
            "(6, 31)\n",
            "True\n",
            "False\n"
          ],
          "name": "stdout"
        }
      ]
    },
    {
      "cell_type": "markdown",
      "metadata": {
        "id": "Sxp8XCO4yFSP"
      },
      "source": [
        "## 10.5 패키지\n",
        "- 도트(.)를 사용하여 파이썬 모듈을 계층적(디렉터리 구조)으로 관리할 수 있게 해준다.\n",
        "- game, sound, graphic, play는 디렉터리\n",
        "- 확장자가 .py인 파일은 파이썬 모듈\n",
        "- game 디렉터리가 이 패키지의 루트 디렉터리\n",
        "-  sound, graphic, play는 서브 디렉터리\n",
        "\n",
        "- 참고 사이트 https://wikidocs.net/1418\n",
        "    - 위키독스 점프 투 파이썬"
      ]
    },
    {
      "cell_type": "code",
      "metadata": {
        "id": "cjPhXvdw3IUT"
      },
      "source": [
        "# 가상의 game 패키지 \n",
        "game/\n",
        "    __init__.py\n",
        "    sound/\n",
        "        __init__.py\n",
        "        echo.py\n",
        "        wav.py\n",
        "    graphic/\n",
        "        __init__.py\n",
        "        screen.py\n",
        "        render.py\n",
        "    play/\n",
        "        __init__.py\n",
        "        run.py\n",
        "        test.py\n"
      ],
      "execution_count": null,
      "outputs": []
    },
    {
      "cell_type": "markdown",
      "metadata": {
        "id": "MYqlgC7U3kDY"
      },
      "source": [
        "###  __init__.py 의 용도\n",
        "- `__init__.py` 파일은 해당 디렉터리가 패키지의 일부임을 알려주는 역할\n",
        "- 패키지에 포함된 디렉터리에 __init__.py 파일이 없다면 패키지로 인식되지 않는다.\n",
        "    - ※ python3.3 버전부터는 __init__.py 파일이 없어도 패키지로 인식한다(PEP 420). 하지만 하위 버전 호환을 위해 __init__.py 파일을 생성하는 것이 안전한 방법이다."
      ]
    }
  ]
}