{
  "nbformat": 4,
  "nbformat_minor": 0,
  "metadata": {
    "colab": {
      "name": "6_Input&Output.ipynb",
      "provenance": [],
      "collapsed_sections": [],
      "authorship_tag": "ABX9TyNgRnd/pQbYw0w6vcVqs/27",
      "include_colab_link": true
    },
    "kernelspec": {
      "name": "python3",
      "display_name": "Python 3"
    },
    "language_info": {
      "name": "python"
    }
  },
  "cells": [
    {
      "cell_type": "markdown",
      "metadata": {
        "id": "view-in-github",
        "colab_type": "text"
      },
      "source": [
        "<a href=\"https://colab.research.google.com/github/MinYongKim/Python/blob/master/6_Input%26Output.ipynb\" target=\"_parent\"><img src=\"https://colab.research.google.com/assets/colab-badge.svg\" alt=\"Open In Colab\"/></a>"
      ]
    },
    {
      "cell_type": "markdown",
      "metadata": {
        "id": "ugDR_6WZdnoW"
      },
      "source": [
        "# 6. 입력과 출력\n",
        "## 6.1 입력과출력\n",
        "- 코딩 후 실행한 결과를 화면이나 파일로 출력\n",
        "- 데이터를 읽어서 처리\n",
        "\n",
        "## 6.2 기본출력\n",
        "- print() 함수의 기본 출력 방법\n",
        "- 문자열 구분 `,` 를 사용 자동으로 빈칸이 하나씩 들어감\n",
        "- print() 함수 안에서 두 문자열 사이의 구분하는 값 sep인자 사용\n",
        "- `\\n` 줄바꿈\n",
        "- 문자열 + 문자열 가능\n",
        "- 문자열과 숫자는 `+` 연산자로 연결 할 수 없음"
      ]
    },
    {
      "cell_type": "code",
      "metadata": {
        "colab": {
          "base_uri": "https://localhost:8080/"
        },
        "id": "epK8SIRTk34S",
        "outputId": "9e70d631-dab5-4209-d54d-0de9b1e339d3"
      },
      "source": [
        "print(\"Hello Python!!\")\n",
        "print(\"Best\", \"python\", \"book\")\n",
        "print(\"Best\", \"python\", \"book\", sep=\"-:*:-\")\n",
        "print(\"abcd\" + \"efg\")\n",
        "print(\"Best\", \"python\", \"book\" + \":\", \"This book\")\n",
        "print(\"James is my friend. \\nHe is Korean.\")"
      ],
      "execution_count": 3,
      "outputs": [
        {
          "output_type": "stream",
          "text": [
            "Hello Python!!\n",
            "Best python book\n",
            "Best-:*:-python-:*:-book\n",
            "abcdefg\n",
            "Best python book: This book\n",
            "James is my friend. \n",
            "He is Korean.\n"
          ],
          "name": "stdout"
        }
      ]
    },
    {
      "cell_type": "markdown",
      "metadata": {
        "id": "eqUu7YQYzhz7"
      },
      "source": [
        "## 6.3 형식 지정 출력\n",
        "- 문자열에 데이터가 출력될 위치와 형식을 지정하는 방식\n",
        "- `%` 나머지 연산자는 데이터의 출력 형식과 위치 지정\n",
        "    - print(\"%type\" %data)\n",
        "    - 문자열 %s, 정수 %d(i), 실수 %f(소수점 6자리까지)\n",
        "- data 두 개 이상이면 순서대로 입력, 튜플 형식으로 data 입력\n",
        "    - print(\"%type %type\" % (datal, data2))"
      ]
    },
    {
      "cell_type": "code",
      "metadata": {
        "colab": {
          "base_uri": "https://localhost:8080/"
        },
        "id": "fLFIivi5sOWk",
        "outputId": "fe9456da-c6ab-4201-b846-87cc12649d02"
      },
      "source": [
        "name = 'Kim'\n",
        "print(\"%s는 너의 친구다\" %(name))\n",
        "\n",
        "# data 두개 이상\n",
        "name1 = \"김민수\" \n",
        "age1 = 10\n",
        "name2 = \"이철희\"\n",
        "age2 = 13\n",
        "print(\"이름: %s 나이:%d\" %(name1,age1))\n",
        "print(\"이름: %s 나이:%d\" %(name2,age2))"
      ],
      "execution_count": 5,
      "outputs": [
        {
          "output_type": "stream",
          "text": [
            "Kim는 너의 친구다\n",
            "이름: 김민수 나이:10\n",
            "이름: 이철희 나이:13\n"
          ],
          "name": "stdout"
        }
      ]
    },
    {
      "cell_type": "markdown",
      "metadata": {
        "id": "s6mcycMu3npN"
      },
      "source": [
        "### string.format()\n",
        "- print(\"{0} {1} {2} ••• {n}\".format(data_0, data_1, data_2, •••, data_n))\n",
        "- data 내용 중 일부만 출력할 수도 있음\n",
        "- 1:1 매칭\n"
      ]
    },
    {
      "cell_type": "code",
      "metadata": {
        "colab": {
          "base_uri": "https://localhost:8080/"
        },
        "id": "NSbPyt5u3cyO",
        "outputId": "4f2b8763-6bae-4214-c048-341bd15913a4"
      },
      "source": [
        "a1 = \"cat\"\n",
        "a2 = \"dog\"\n",
        "a3 = \"pig\"\n",
        "\n",
        "print(\"animal: {0}\".format(a1))\n",
        "print(\"animal: {2}, {0}, {1}\".format(a1,a2,a3))\n",
        "# {}빈 공백시 () 입력순대으로 데이터 입력\n",
        "print(\"animal: {}, {}, {}\".format(a1,a2,a3))\n",
        "\n",
        "name = \"Tomas\"\n",
        "age = 10\n",
        "a = 0.123456789\n",
        "f_str = \"Str: {0}, Int:{1}, Float:{2}\"\n",
        "print(f_str.format(name,age,a))\n",
        "# 소수점 반올림 되어 출력\n",
        "print(\"{0:0.2f}, {0:.5f}\".format(a))"
      ],
      "execution_count": 13,
      "outputs": [
        {
          "output_type": "stream",
          "text": [
            "animal: cat\n",
            "animal: pig, cat, dog\n",
            "animal: cat, dog, pig\n",
            "Str: Tomas, Int:10, Float:0.123456789\n",
            "0.12, 0.123456789\n"
          ],
          "name": "stdout"
        }
      ]
    },
    {
      "cell_type": "markdown",
      "metadata": {
        "id": "mlBK9iWBDudJ"
      },
      "source": [
        "## 6.3 키보드 입력\n",
        "- data = input(\"입력 받는 값 소개\")\n",
        "    - input() 함수 안의 ‘문자열’은 화면에 표시\n",
        "    - 입력 후 Enter를 누르면 `문자열` 형태로 data 변수에 대입\n",
        "    - 숫자를 연산에 이용 한다면 연산 전에 입력 받은 숫자를 정수 혹은 실수로 변환 (문자열을 정수 변환이 필요하다)"
      ]
    },
    {
      "cell_type": "code",
      "metadata": {
        "colab": {
          "base_uri": "https://localhost:8080/"
        },
        "id": "xnFF1XS54j1F",
        "outputId": "a21903ef-0ac2-4928-c634-0b2ffb3788b5"
      },
      "source": [
        "data = input(\"당신의 이름은? \")\n",
        "print(\"당신은 {} 이군요\".format(data))\n",
        "print(type(data))"
      ],
      "execution_count": 14,
      "outputs": [
        {
          "output_type": "stream",
          "text": [
            "당신의 이름은? 김 민용\n",
            "당신은 김 민용 이군요\n",
            "<class 'str'>\n"
          ],
          "name": "stdout"
        }
      ]
    },
    {
      "cell_type": "code",
      "metadata": {
        "colab": {
          "base_uri": "https://localhost:8080/"
        },
        "id": "DT4LI3xgFKcv",
        "outputId": "132674b8-5148-4309-c93a-0ecce2360e50"
      },
      "source": [
        "# 정수, 실수 정수 int(), float()\n",
        "a = input(\"정사각형 한변의 길이는? \")\n",
        "area = int(a)**2\n",
        "print(\"정사각형의 넓이는 {}\".format(area))\n",
        "print(\"a의 타입은: \",type(a))\n",
        "print(\"area의 타입은 : \",type(area))"
      ],
      "execution_count": 15,
      "outputs": [
        {
          "output_type": "stream",
          "text": [
            "정사각형 한변의 길이는? 5\n",
            "정사각형의 넓이는 25\n",
            "a의 타입은:  <class 'str'>\n",
            "area의 타입은 :  <class 'int'>\n"
          ],
          "name": "stdout"
        }
      ]
    },
    {
      "cell_type": "markdown",
      "metadata": {
        "id": "mdnU9xTMGVUC"
      },
      "source": [
        "## 6.4 파일 읽고 쓰기\n",
        "- 파이썬 내장 함수 open() 사용\n",
        "- f = open('filename','mode')"
      ]
    },
    {
      "cell_type": "code",
      "metadata": {
        "id": "6Dt971wQFyk-"
      },
      "source": [
        ""
      ],
      "execution_count": null,
      "outputs": []
    }
  ]
}