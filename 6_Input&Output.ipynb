{
  "nbformat": 4,
  "nbformat_minor": 0,
  "metadata": {
    "colab": {
      "name": "6_Input&Output.ipynb",
      "provenance": [],
      "collapsed_sections": [],
      "authorship_tag": "ABX9TyO1FSy2o/lSc4gasCetIWYq",
      "include_colab_link": true
    },
    "kernelspec": {
      "name": "python3",
      "display_name": "Python 3"
    },
    "language_info": {
      "name": "python"
    }
  },
  "cells": [
    {
      "cell_type": "markdown",
      "metadata": {
        "id": "view-in-github",
        "colab_type": "text"
      },
      "source": [
        "<a href=\"https://colab.research.google.com/github/MinYongKim/Python/blob/master/6_Input%26Output.ipynb\" target=\"_parent\"><img src=\"https://colab.research.google.com/assets/colab-badge.svg\" alt=\"Open In Colab\"/></a>"
      ]
    },
    {
      "cell_type": "markdown",
      "metadata": {
        "id": "ugDR_6WZdnoW"
      },
      "source": [
        "# 6. 입력과 출력\n",
        "## 6.1 입력과출력\n",
        "- 코딩 후 실행한 결과를 화면이나 파일로 출력\n",
        "- 데이터를 읽어서 처리\n",
        "\n",
        "## 6.2 기본출력\n",
        "- print() 함수의 기본 출력 방법\n",
        "- 문자열 구분 `,` 를 사용 자동으로 빈칸이 하나씩 들어감\n",
        "- print() 함수 안에서 두 문자열 사이의 구분하는 값 sep인자 사용\n",
        "- `\\n` 줄바꿈\n",
        "- 문자열 + 문자열 가능\n",
        "- 문자열과 숫자는 `+` 연산자로 연결 할 수 없음"
      ]
    },
    {
      "cell_type": "code",
      "metadata": {
        "colab": {
          "base_uri": "https://localhost:8080/"
        },
        "id": "epK8SIRTk34S",
        "outputId": "9e70d631-dab5-4209-d54d-0de9b1e339d3"
      },
      "source": [
        "print(\"Hello Python!!\")\n",
        "print(\"Best\", \"python\", \"book\")\n",
        "print(\"Best\", \"python\", \"book\", sep=\"-:*:-\")\n",
        "print(\"abcd\" + \"efg\")\n",
        "print(\"Best\", \"python\", \"book\" + \":\", \"This book\")\n",
        "print(\"James is my friend. \\nHe is Korean.\")"
      ],
      "execution_count": null,
      "outputs": [
        {
          "output_type": "stream",
          "text": [
            "Hello Python!!\n",
            "Best python book\n",
            "Best-:*:-python-:*:-book\n",
            "abcdefg\n",
            "Best python book: This book\n",
            "James is my friend. \n",
            "He is Korean.\n"
          ],
          "name": "stdout"
        }
      ]
    },
    {
      "cell_type": "markdown",
      "metadata": {
        "id": "eqUu7YQYzhz7"
      },
      "source": [
        "## 6.3 형식 지정 출력\n",
        "- 문자열에 데이터가 출력될 위치와 형식을 지정하는 방식\n",
        "- `%` 나머지 연산자는 데이터의 출력 형식과 위치 지정\n",
        "    - print(\"%type\" %data)\n",
        "    - 문자열 %s, 정수 %d(i), 실수 %f(소수점 6자리까지)\n",
        "- data 두 개 이상이면 순서대로 입력, 튜플 형식으로 data 입력\n",
        "    - print(\"%type %type\" % (datal, data2))"
      ]
    },
    {
      "cell_type": "code",
      "metadata": {
        "colab": {
          "base_uri": "https://localhost:8080/"
        },
        "id": "fLFIivi5sOWk",
        "outputId": "fe9456da-c6ab-4201-b846-87cc12649d02"
      },
      "source": [
        "name = 'Kim'\n",
        "print(\"%s는 너의 친구다\" %(name))\n",
        "\n",
        "# data 두개 이상\n",
        "name1 = \"김민수\" \n",
        "age1 = 10\n",
        "name2 = \"이철희\"\n",
        "age2 = 13\n",
        "print(\"이름: %s 나이:%d\" %(name1,age1))\n",
        "print(\"이름: %s 나이:%d\" %(name2,age2))"
      ],
      "execution_count": null,
      "outputs": [
        {
          "output_type": "stream",
          "text": [
            "Kim는 너의 친구다\n",
            "이름: 김민수 나이:10\n",
            "이름: 이철희 나이:13\n"
          ],
          "name": "stdout"
        }
      ]
    },
    {
      "cell_type": "markdown",
      "metadata": {
        "id": "s6mcycMu3npN"
      },
      "source": [
        "### string.format()\n",
        "- print(\"{0} {1} {2} ••• {n}\".format(data_0, data_1, data_2, •••, data_n))\n",
        "- data 내용 중 일부만 출력할 수도 있음\n",
        "- string.format()은 '{1}, {2}, {0}’는 format() 변수의 순서로 출력\n"
      ]
    },
    {
      "cell_type": "code",
      "metadata": {
        "colab": {
          "base_uri": "https://localhost:8080/"
        },
        "id": "NSbPyt5u3cyO",
        "outputId": "4f2b8763-6bae-4214-c048-341bd15913a4"
      },
      "source": [
        "a1 = \"cat\"\n",
        "a2 = \"dog\"\n",
        "a3 = \"pig\"\n",
        "\n",
        "print(\"animal: {0}\".format(a1))\n",
        "print(\"animal: {2}, {0}, {1}\".format(a1,a2,a3))\n",
        "# {}빈 공백시 () 입력순대으로 데이터 입력\n",
        "print(\"animal: {}, {}, {}\".format(a1,a2,a3))\n",
        "\n",
        "name = \"Tomas\"\n",
        "age = 10\n",
        "a = 0.123456789\n",
        "f_str = \"Str: {0}, Int:{1}, Float:{2}\"\n",
        "print(f_str.format(name,age,a))\n",
        "# 소수점 반올림 되어 출력\n",
        "print(\"{0:0.2f}, {0:.5f}\".format(a))"
      ],
      "execution_count": null,
      "outputs": [
        {
          "output_type": "stream",
          "text": [
            "animal: cat\n",
            "animal: pig, cat, dog\n",
            "animal: cat, dog, pig\n",
            "Str: Tomas, Int:10, Float:0.123456789\n",
            "0.12, 0.123456789\n"
          ],
          "name": "stdout"
        }
      ]
    },
    {
      "cell_type": "markdown",
      "metadata": {
        "id": "mlBK9iWBDudJ"
      },
      "source": [
        "## 6.3 키보드 입력\n",
        "- data = input(\"입력 받는 값 소개\")\n",
        "    - input() 함수 안의 ‘문자열’은 화면에 표시\n",
        "    - 입력 후 Enter를 누르면 `문자열` 형태로 data 변수에 대입\n",
        "    - 숫자를 연산에 이용 한다면 연산 전에 입력 받은 숫자를 정수 혹은 실수로 변환 (문자열을 정수 변환이 필요하다)"
      ]
    },
    {
      "cell_type": "code",
      "metadata": {
        "colab": {
          "base_uri": "https://localhost:8080/"
        },
        "id": "xnFF1XS54j1F",
        "outputId": "a21903ef-0ac2-4928-c634-0b2ffb3788b5"
      },
      "source": [
        "data = input(\"당신의 이름은? \")\n",
        "print(\"당신은 {} 이군요\".format(data))\n",
        "print(type(data))"
      ],
      "execution_count": null,
      "outputs": [
        {
          "output_type": "stream",
          "text": [
            "당신의 이름은? 김 민용\n",
            "당신은 김 민용 이군요\n",
            "<class 'str'>\n"
          ],
          "name": "stdout"
        }
      ]
    },
    {
      "cell_type": "code",
      "metadata": {
        "colab": {
          "base_uri": "https://localhost:8080/"
        },
        "id": "DT4LI3xgFKcv",
        "outputId": "132674b8-5148-4309-c93a-0ecce2360e50"
      },
      "source": [
        "# 정수, 실수 정수 int(), float()\n",
        "a = input(\"정사각형 한변의 길이는? \")\n",
        "area = int(a)**2\n",
        "print(\"정사각형의 넓이는 {}\".format(area))\n",
        "print(\"a의 타입은: \",type(a))\n",
        "print(\"area의 타입은 : \",type(area))"
      ],
      "execution_count": null,
      "outputs": [
        {
          "output_type": "stream",
          "text": [
            "정사각형 한변의 길이는? 5\n",
            "정사각형의 넓이는 25\n",
            "a의 타입은:  <class 'str'>\n",
            "area의 타입은 :  <class 'int'>\n"
          ],
          "name": "stdout"
        }
      ]
    },
    {
      "cell_type": "markdown",
      "metadata": {
        "id": "mdnU9xTMGVUC"
      },
      "source": [
        "## 6.4 파일 읽고 쓰기\n",
        "- 파이썬 내장 함수 open() 사용\n",
        "- f = open('filename','mode')\n",
        "- open -> read/write -> close\n",
        "\n",
        "### 파일 열기 속성\n",
        "![캡처.PNG](data:image/png;base64,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)"
      ]
    },
    {
      "cell_type": "markdown",
      "metadata": {
        "id": "9_nwk_Ljqiep"
      },
      "source": [
        "- mode 혼합해서 사용가능\n",
        "    - 공백시 `rt`로 자동 설정\n",
        "\n",
        "### 파일 쓰기 속성\n",
        "1. f = open('file_name', 'w')\n",
        "2. f.write(str)\n",
        "3. f.close()"
      ]
    },
    {
      "cell_type": "code",
      "metadata": {
        "id": "uDwkGzY4vicp"
      },
      "source": [
        "# 파일 쓰기\n",
        "f = open('myFile.txt', 'w')\n",
        "f.write('This is my First file.')\n",
        "f.close()"
      ],
      "execution_count": null,
      "outputs": []
    },
    {
      "cell_type": "code",
      "metadata": {
        "id": "6Dt971wQFyk-",
        "colab": {
          "base_uri": "https://localhost:8080/"
        },
        "outputId": "223c3fff-d26f-4b01-965d-453172e643b1"
      },
      "source": [
        "# 파일 생성 확인\n",
        "!cat myFile.txt"
      ],
      "execution_count": null,
      "outputs": [
        {
          "output_type": "stream",
          "text": [
            "This is my First file."
          ],
          "name": "stdout"
        }
      ]
    },
    {
      "cell_type": "code",
      "metadata": {
        "colab": {
          "base_uri": "https://localhost:8080/"
        },
        "id": "SKSL0qv27uSr",
        "outputId": "bb50e31a-d4fe-45aa-8c16-6863da0aecbc"
      },
      "source": [
        "f = open('myFile.txt', 'r')\n",
        "file_text = f.read()\n",
        "f.close()\n",
        "\n",
        "print(file_text)"
      ],
      "execution_count": null,
      "outputs": [
        {
          "output_type": "stream",
          "text": [
            "This is my First file.\n"
          ],
          "name": "stdout"
        }
      ]
    },
    {
      "cell_type": "markdown",
      "metadata": {
        "id": "mhEEOY3ASJNr"
      },
      "source": [
        "### 파일에 반복문 사용\n",
        "- 반복문을 이용해 파일의 내용을 한 줄 씩 처리\n",
        "- wirte() 함수는 자동으로 줄 바꿈이 되지 않으므로 파일에서 줄을 바꾸기 위해서는 문자열 끝에 \\n을 추가\n"
      ]
    },
    {
      "cell_type": "code",
      "metadata": {
        "id": "z35p02pF8GJL"
      },
      "source": [
        "f = open('two_times_Tabe.txt','w')\n",
        "for num in range(1,6):\n",
        "    two = \"2 X {} = {}\\n\".format(num,2*num)\n",
        "    f.write(two)\n",
        "f.close()"
      ],
      "execution_count": 8,
      "outputs": []
    },
    {
      "cell_type": "code",
      "metadata": {
        "id": "wEegu3M9VNI5"
      },
      "source": [
        "f = open('two_times_Tabe.txt', \"r\")\n",
        "two_tables = f.read()\n",
        "f.close()"
      ],
      "execution_count": 9,
      "outputs": []
    },
    {
      "cell_type": "code",
      "metadata": {
        "colab": {
          "base_uri": "https://localhost:8080/"
        },
        "id": "zL0MIjdfVjhn",
        "outputId": "3f890fac-7a3f-4147-9b54-26f0d8b43c36"
      },
      "source": [
        "print(two_tables)"
      ],
      "execution_count": 10,
      "outputs": [
        {
          "output_type": "stream",
          "text": [
            "2 X 1 = 2\n",
            "2 X 2 = 4\n",
            "2 X 3 = 6\n",
            "2 X 4 = 8\n",
            "2 X 5 = 10\n",
            "\n"
          ],
          "name": "stdout"
        }
      ]
    },
    {
      "cell_type": "code",
      "metadata": {
        "colab": {
          "base_uri": "https://localhost:8080/"
        },
        "id": "_uSPj-UXVoYn",
        "outputId": "9970bada-11c6-416f-8567-af15fb6064f4"
      },
      "source": [
        "f = open(\"gugudan.txt\",\"w\")\n",
        "num = input(\"구구단중 몇단을 원하십니까? \")\n",
        "a = int(num)\n",
        "for i in range(1,10): \n",
        "    gugu = \"{}X{} = {} \\n\".format(a,i,a*i) \n",
        "    f.write(gugu)\n",
        "f.close()"
      ],
      "execution_count": 11,
      "outputs": [
        {
          "output_type": "stream",
          "text": [
            "구구단중 몇단을 원하십니까? 2\n"
          ],
          "name": "stdout"
        }
      ]
    },
    {
      "cell_type": "code",
      "metadata": {
        "id": "FMlagvWzbn6x"
      },
      "source": [
        "# 구구단\n",
        "f = open(\"gugudan2.txt\",\"w\")\n",
        "a= 1\n",
        "while a<9:\n",
        "    a = a+1\n",
        "    for i in range(1,10):\n",
        "        gugu=\"{}X{} = {} \\n\".format(a,i,a*i)\n",
        "        f.write(gugu)\n",
        "f.close()"
      ],
      "execution_count": 13,
      "outputs": []
    },
    {
      "cell_type": "code",
      "metadata": {
        "id": "Z3A-iS9vgc0C"
      },
      "source": [
        ""
      ],
      "execution_count": null,
      "outputs": []
    },
    {
      "cell_type": "markdown",
      "metadata": {
        "id": "662X2fNKjSSN"
      },
      "source": [
        "### readline(), readlines()\n",
        "- readline()은 실행한 횟수만큼 `문자열`을 한 줄씩 읽음\n",
        "- readline()은 파일의 맨 끝 줄을 읽고 난 후 다시 실행하면 빈 문자열을\n",
        "반환\n",
        "- readlines()는 파일 전체의 모든 줄을 읽어서 한 줄 씩을 요소로 갖는\n",
        "`리스트 타입`으로 반환\n",
        "\n",
        "\n"
      ]
    },
    {
      "cell_type": "code",
      "metadata": {
        "colab": {
          "base_uri": "https://localhost:8080/"
        },
        "id": "wAr7oYazjj88",
        "outputId": "e911688d-de00-499b-ffde-3850894d9f18"
      },
      "source": [
        "f = open('two_times_Tabe.txt')\n",
        "line1 = f.readline()\n",
        "\n",
        "# 모든 줄을 읽어서 한 줄 씩을 요소로 갖는 리스트 타입으로 반환\n",
        "line2 = f.readlines()\n",
        "\n",
        "f.close()\n",
        "print(line1, end=\"\")\n",
        "print(line2)"
      ],
      "execution_count": 18,
      "outputs": [
        {
          "output_type": "stream",
          "text": [
            "2 X 1 = 2\n",
            "['2 X 2 = 4\\n', '2 X 3 = 6\\n', '2 X 4 = 8\\n', '2 X 5 = 10\\n']\n"
          ],
          "name": "stdout"
        }
      ]
    },
    {
      "cell_type": "code",
      "metadata": {
        "colab": {
          "base_uri": "https://localhost:8080/"
        },
        "id": "qu0yhVsJjqXz",
        "outputId": "e90203a0-ce59-4a40-b196-a6f93920ff96"
      },
      "source": [
        "# while을 사용하여 전체 문자열을 출력\n",
        "f = open('two_times_Tabe.txt')\n",
        "line = f.readline()\n",
        "print(type(line))\n",
        "while line :\n",
        "    print(line, end = \"\")\n",
        "    line=f.readline()\n",
        "f.close()\n"
      ],
      "execution_count": 33,
      "outputs": [
        {
          "output_type": "stream",
          "text": [
            "<class 'str'>\n",
            "2 X 1 = 2\n",
            "2 X 2 = 4\n",
            "2 X 3 = 6\n",
            "2 X 4 = 8\n",
            "2 X 5 = 10\n"
          ],
          "name": "stdout"
        }
      ]
    },
    {
      "cell_type": "code",
      "metadata": {
        "colab": {
          "base_uri": "https://localhost:8080/"
        },
        "id": "EvV3hSudldxI",
        "outputId": "0ad11d68-08d3-4a06-e0ea-4bdd91664471"
      },
      "source": [
        "# f = open('two_times_Tabe.txt')\n",
        "# lines = f.readlines()\n",
        "# f.close()\n",
        "# print(lines)\n",
        "# for line in lines:\n",
        "#     print(line, end=\"\")\n",
        "\n",
        "# lines 변수 대신 바로 f.readlines()[반복 범위 지정]\n",
        "f = open('two_times_Tabe.txt')\n",
        "for line in f.readlines():\n",
        "    print(line, end=\"\")  \n",
        "f.close()"
      ],
      "execution_count": 26,
      "outputs": [
        {
          "output_type": "stream",
          "text": [
            "2 X 1 = 2\n",
            "2 X 2 = 4\n",
            "2 X 3 = 6\n",
            "2 X 4 = 8\n",
            "2 X 5 = 10\n"
          ],
          "name": "stdout"
        }
      ]
    },
    {
      "cell_type": "code",
      "metadata": {
        "colab": {
          "base_uri": "https://localhost:8080/"
        },
        "id": "9VvxsYhamsLL",
        "outputId": "80c84b89-4f48-4012-87c5-bdcc626760c0"
      },
      "source": [
        "f = open('gugudan.txt')\n",
        "for line in f.readlines():\n",
        "    print(line, end=\"\")    \n",
        "f.close()"
      ],
      "execution_count": 30,
      "outputs": [
        {
          "output_type": "stream",
          "text": [
            "2X1 = 2 \n",
            "2X2 = 4 \n",
            "2X3 = 6 \n",
            "2X4 = 8 \n",
            "2X5 = 10 \n",
            "2X6 = 12 \n",
            "2X7 = 14 \n",
            "2X8 = 16 \n",
            "2X9 = 18 \n"
          ],
          "name": "stdout"
        }
      ]
    },
    {
      "cell_type": "markdown",
      "metadata": {
        "id": "D6gaPBrwvzmg"
      },
      "source": [
        "### with 문을 활용해 파일 읽고 쓰기\n",
        "- 파일을 연 후 읽기나 쓰기가 끝난후 자동으로 close()\n",
        "- with open('file_name’, 'mode') as f："
      ]
    },
    {
      "cell_type": "code",
      "metadata": {
        "id": "bZ0c5gYfnyNB"
      },
      "source": [
        "with open('gugudan3.txt', 'w') as f:\n",
        "    for num in range(1,10):\n",
        "        gugu= \"3X{}={}\\n\".format(num,3*num)\n",
        "        f.write(gugu)"
      ],
      "execution_count": 34,
      "outputs": []
    },
    {
      "cell_type": "code",
      "metadata": {
        "colab": {
          "base_uri": "https://localhost:8080/"
        },
        "id": "Ptc1f9dfzT1c",
        "outputId": "53e7d88a-3d6a-4e99-b23c-8f946ba06115"
      },
      "source": [
        "with open('gugudan3.txt','r') as f:\n",
        "    for line in f:\n",
        "        print(line, end=\"\")\n",
        "\n",
        "print(line)\n",
        "print(type(line))"
      ],
      "execution_count": 51,
      "outputs": [
        {
          "output_type": "stream",
          "text": [
            "3X1=3\n",
            "3X2=6\n",
            "3X3=9\n",
            "3X4=12\n",
            "3X5=15\n",
            "3X6=18\n",
            "3X7=21\n",
            "3X8=24\n",
            "3X9=27\n",
            "3X9=27\n",
            "\n",
            "<class 'str'>\n"
          ],
          "name": "stdout"
        }
      ]
    },
    {
      "cell_type": "code",
      "metadata": {
        "id": "cmv3Z-lS0Wjc"
      },
      "source": [
        ""
      ],
      "execution_count": null,
      "outputs": []
    }
  ]
}