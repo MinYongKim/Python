{
  "nbformat": 4,
  "nbformat_minor": 0,
  "metadata": {
    "colab": {
      "name": "8_Class_Object.ipynb",
      "provenance": [],
      "collapsed_sections": [],
      "authorship_tag": "ABX9TyOR/glh2EYbZnzUbrNx9Z+r",
      "include_colab_link": true
    },
    "kernelspec": {
      "name": "python3",
      "display_name": "Python 3"
    },
    "language_info": {
      "name": "python"
    }
  },
  "cells": [
    {
      "cell_type": "markdown",
      "metadata": {
        "id": "view-in-github",
        "colab_type": "text"
      },
      "source": [
        "<a href=\"https://colab.research.google.com/github/MinYongKim/Python/blob/master/8_Class_Object.ipynb\" target=\"_parent\"><img src=\"https://colab.research.google.com/assets/colab-badge.svg\" alt=\"Open In Colab\"/></a>"
      ]
    },
    {
      "cell_type": "markdown",
      "metadata": {
        "id": "hp9MP99vEo07"
      },
      "source": [
        "# 8. 객체와 클래스\n",
        "\n",
        "## 8.1 객체\n",
        "- 객체의 특징인 속성은 변수\n",
        "- 객체가 할 수 있는 일인 행동은 함수\n",
        "- 변수와 함수의 묶음\n",
        "\n",
        "## 8.2 클래스\n",
        "- 객체의 공통된 속성과 행위를 변수와 함수로 정의\n",
        "- 객체는 클래스에서 생성하므로 객체를 클래스의 인스턴스(Instance)\n",
        "- 클래스명은 가독성을 위해 관례적으로 대문자로 시작\n",
        "- 클래스에서 정의한 함수의 첫 번째 인자는 `self`\n",
        "- self는 객체 생성 후에 자신을 참조하는데 이용"
      ]
    },
    {
      "cell_type": "code",
      "metadata": {
        "id": "8aynXkwr_29F"
      },
      "source": [
        "class Bicycle():\n",
        "    def move(self, speed):\n",
        "        print(\"자전거 : 시속 {0}킬로미터 전지\".format(speed))\n",
        "    \n",
        "    def turn(self, direction):\n",
        "        print(\"자전거 : {0}회전\".format(direction))\n",
        "        \n",
        "    def stop(self):\n",
        "        print(\"자전거 ({0}, {1}): 정지\".format(self.wheel_size, self.color))"
      ],
      "execution_count": 1,
      "outputs": []
    },
    {
      "cell_type": "code",
      "metadata": {
        "id": "_nxkKqQCVtiz",
        "colab": {
          "base_uri": "https://localhost:8080/"
        },
        "outputId": "59e03e4f-c603-40d9-961e-52ccdbfe5a84"
      },
      "source": [
        "my_bicycle = Bicycle() # Bicyle의 인스턴스인 my_bicycle객체  생성\n",
        "\n",
        "my_bicycle.wheel_size = 26 # my_bicycle객체의 변수 설정\n",
        "my_bicycle.color = 'black'\n",
        "\n",
        "my_bicycle.move(20)\n",
        "my_bicycle.turn(30)\n",
        "my_bicycle.stop()"
      ],
      "execution_count": 2,
      "outputs": [
        {
          "output_type": "stream",
          "text": [
            "자전거 : 시속 20킬로미터 전지\n",
            "자전거 : 30회전\n",
            "자전거 (26, black): 정지\n"
          ],
          "name": "stdout"
        }
      ]
    },
    {
      "cell_type": "markdown",
      "metadata": {
        "id": "0JcDrBTbsrg1"
      },
      "source": [
        "## 8.3 객체 초기화 `__inint__()`\n",
        "- 클래스 선언시 초기화 함수 `__inint__()`를 구현하면 객체를 생성하는것과 동시에 속성값을 지정할수 있다\n",
        "- `__init__()`함수에 초기화 변수를 정의 하면 객체를 생성할때 속성을 초기화 할수 있다"
      ]
    },
    {
      "cell_type": "code",
      "metadata": {
        "id": "Uy0k2qnG9kae"
      },
      "source": [
        "class Bicycle():\n",
        "    def __init__(self, wheel_size,color):\n",
        "        self.wheel_size = wheel_size # 인스턴스 변수 생성 및 초기화\n",
        "        self.color = color\n",
        "    \n",
        "    def move(self, speed):\n",
        "        print(\"자전거 : 시속 {0}킬로미터 전진\".format(speed))\n",
        "    \n",
        "    def turn(self, direction):\n",
        "        print(\"자전거 : {0}회전\".format(direction))\n",
        "        \n",
        "    def stop(self):\n",
        "        print(\"자전거 ({0}, {1}): 정지\".format(self.wheel_size, self.color))"
      ],
      "execution_count": 3,
      "outputs": []
    },
    {
      "cell_type": "code",
      "metadata": {
        "id": "Zf4Gr-go9-q8"
      },
      "source": [
        "bicycle1 = Bicycle(32,\"Blue\")\n",
        "bicycle2 = Bicycle(44,\"Red\")"
      ],
      "execution_count": 4,
      "outputs": []
    },
    {
      "cell_type": "code",
      "metadata": {
        "colab": {
          "base_uri": "https://localhost:8080/"
        },
        "id": "ZfLRI3nP93lG",
        "outputId": "20156fae-8ca2-44a8-ab30-4b73b911622e"
      },
      "source": [
        "bicycle1.move(32)\n",
        "bicycle1.turn(45)\n",
        "bicycle1.stop()\n",
        "print(\"----------------------\")\n",
        "bicycle2.move(44)\n",
        "bicycle2.turn(360)\n",
        "bicycle2.stop()"
      ],
      "execution_count": 5,
      "outputs": [
        {
          "output_type": "stream",
          "text": [
            "자전거 : 시속 32킬로미터 전진\n",
            "자전거 : 45회전\n",
            "자전거 (32, Blue): 정지\n",
            "----------------------\n",
            "자전거 : 시속 44킬로미터 전진\n",
            "자전거 : 360회전\n",
            "자전거 (44, Red): 정지\n"
          ],
          "name": "stdout"
        }
      ]
    },
    {
      "cell_type": "markdown",
      "metadata": {
        "id": "M-uqG8uAyWCE"
      },
      "source": [
        "## 8.4 클래스 변수 와 인스턴스 변수\n",
        "- 클래스에서 사용하는 변수의 위치에 따라 나눠진다\n",
        "- 클래스 변수는 클래스 안에서 공통으로 사용\n",
        "- 클래스 변수 구조식  = 클래스명.클래스변수명\n",
        "- 인스턴스 변수 각 객체에서 별도로 관리됨"
      ]
    },
    {
      "cell_type": "code",
      "metadata": {
        "id": "YdUVMEjsMQ2r"
      },
      "source": [
        "class Car():\n",
        "    instance_count = 0 #클래스 변수 선언\n",
        "    \n",
        "    def __init__(self, brand, type):\n",
        "        self.brand = brand # 인스턴스 변수 생성 및 초기화\n",
        "        self.type = type\n",
        "        Car.instance_count += 1 # 클래스 변수 이용\n",
        "        print(\"자동차 객체의 수: {}\".format(Car.instance_count))\n",
        "        \n",
        "    def model(self):\n",
        "        print(\"자동차 {}, 타입 {}\".format(self.brand, self.type))"
      ],
      "execution_count": 6,
      "outputs": []
    },
    {
      "cell_type": "code",
      "metadata": {
        "colab": {
          "base_uri": "https://localhost:8080/"
        },
        "id": "es0ZTDraAYE5",
        "outputId": "84a94488-dfea-4cf1-985a-e99e441df05e"
      },
      "source": [
        "car1 = Car(\"BMW\",\"쿠페\")\n",
        "car2 = Car(\"벤츠\",\"디젤\")\n",
        "\n",
        "car1.model()\n",
        "car2.model()"
      ],
      "execution_count": 7,
      "outputs": [
        {
          "output_type": "stream",
          "text": [
            "자동차 객체의 수: 1\n",
            "자동차 객체의 수: 2\n",
            "자동차 BMW, 타입 쿠페\n",
            "자동차 벤츠, 타입 디젤\n"
          ],
          "name": "stdout"
        }
      ]
    },
    {
      "cell_type": "code",
      "metadata": {
        "colab": {
          "base_uri": "https://localhost:8080/"
        },
        "id": "hnSVC3iUAbux",
        "outputId": "894edb6d-a276-4722-85e8-d53e818a0793"
      },
      "source": [
        "print(\"Car 클래스의총 인스턴스의 수 {}\".format(Car.instance_count))"
      ],
      "execution_count": 8,
      "outputs": [
        {
          "output_type": "stream",
          "text": [
            "Car 클래스의총 인스턴스의 수 2\n"
          ],
          "name": "stdout"
        }
      ]
    },
    {
      "cell_type": "markdown",
      "metadata": {
        "id": "CLNgcfmsBxeY"
      },
      "source": [
        "## 8.5 인스턴스 메소드, 정적 메소드, 클래스 메소드\n",
        "\n",
        "### 1. 인스턴스 메소드\n",
        "- 각 객체에서 개별적으로 동작하는 함수\n",
        "- 함수를 정의할 때 첫 인자로 self가 필요\n",
        "- 객체를 생성한 후에 호출\n",
        "\n",
        "### 2. 정적 메소드\n",
        "- 함수 앞에 데코레이터 @staticmethod\n",
        "- 클래스나 클래스의 인스턴스와는 무관하게 독립적으로 동작하는 함수\n",
        "- 정적 메소드 안에서는 인스턴스 메소드, 변수에 접근할 수 없음\n",
        "- 날짜 및 시간, 정보제공, 환율 정보등 객체와 관계없는 함수를 만들 때 주로 이용\n",
        "\n",
        "### 3. 클래스 메소드\n",
        "- 함수 앞에 데코레이터 @classmethod\n",
        "- 클래스 변수를 사용하기 위한 함수\n",
        "- 첫 번째 인자로 클래스를 넘겨받는 cls가 필요하며 이를 이용해 클래스 변수에 접근\n",
        "-  생성된 객체의 개수를 반환하는 등 클래스 전체에서 관리해야 할 기능이 있을 때 주로 이용\n",
        "\n",
        "\n"
      ]
    },
    {
      "cell_type": "code",
      "metadata": {
        "id": "Hp95OEB2AeYy"
      },
      "source": [
        "class Car():\n",
        "    instance_count = 0\n",
        "    \n",
        "    def __init__(self, size, color):\n",
        "        self.size = size\n",
        "        self.color = color\n",
        "        Car.instance_count += 1\n",
        "        print(\"자동차 객체의 수: {}\".format(Car.instance_count))\n",
        "        \n",
        "    def move(self, speed):\n",
        "        self.speed = speed\n",
        "        print(\"자동차 ({0} &{1})가 \".format(self.size, self.color), end=\"\")\n",
        "        print(\"시속 {0} 킬로미터 전진\".format(self.speed))\n",
        "        \n",
        "    def auto_curise(self):\n",
        "        print(\"자율모드\")\n",
        "        self.move(self.speed)\n",
        "        \n",
        "    #정적메소드\n",
        "    @staticmethod\n",
        "    def check_type(model_code):\n",
        "        if(model_code >=20):\n",
        "            print(\"승합차\")\n",
        "        elif(10<=model_code<20):\n",
        "            print(\"승용차\")\n",
        "        else :\n",
        "            print(\"경차\")\n",
        "    \n",
        "    #클래스 메소드\n",
        "    @classmethod\n",
        "    def count_ins(cls):\n",
        "        print(\"클래스메소드 : 자동차 객체의 개수 : {0} \".format(cls.instance_count))"
      ],
      "execution_count": 9,
      "outputs": []
    },
    {
      "cell_type": "code",
      "metadata": {
        "colab": {
          "base_uri": "https://localhost:8080/"
        },
        "id": "xuoDAWMBRrk7",
        "outputId": "705dcb76-1710-49b3-9c78-a2741f116406"
      },
      "source": [
        "Car.count_ins() #클래스 메소드 호출\n",
        "car1 = Car('small','red') # Car() 클래스의 인스턴스인 car1 객체 생성\n",
        "\n",
        "Car.count_ins()\n",
        "car2 = Car('big', 'blue')\n",
        "Car.count_ins()\n",
        "\n",
        "car1.move(60) # car1객체의 move() 메소드 호출\n",
        "car2.move(80)\n",
        "\n",
        "car1.auto_curise()\n",
        "car2.auto_curise()\n",
        "Car.check_type(25) # Car()클래스에 check_type()정적메소드 호출\n",
        "Car.check_type(15)\n",
        "Car.check_type(2)"
      ],
      "execution_count": 10,
      "outputs": [
        {
          "output_type": "stream",
          "text": [
            "클래스메소드 : 자동차 객체의 개수 : 0 \n",
            "자동차 객체의 수: 1\n",
            "클래스메소드 : 자동차 객체의 개수 : 1 \n",
            "자동차 객체의 수: 2\n",
            "클래스메소드 : 자동차 객체의 개수 : 2 \n",
            "자동차 (small &red)가 시속 60 킬로미터 전진\n",
            "자동차 (big &blue)가 시속 80 킬로미터 전진\n",
            "자율모드\n",
            "자동차 (small &red)가 시속 60 킬로미터 전진\n",
            "자율모드\n",
            "자동차 (big &blue)가 시속 80 킬로미터 전진\n",
            "승합차\n",
            "승용차\n",
            "경차\n"
          ],
          "name": "stdout"
        }
      ]
    },
    {
      "cell_type": "markdown",
      "metadata": {
        "id": "Te7TxDWIAIfh"
      },
      "source": [
        "## 8.6 클래스 상속\n",
        "- 클래스를 만들 때 다른 클래스의 기능을 물려 받기\n",
        "    - 초기화 함수 `__init__()`에서 많이 이용\n",
        "- 부모 클래스(상위 클래스, 슈퍼 클래스)\n",
        "- 자식 클래스(하위 클래스, 서브 클래스)\n",
        "- 상속을 받으면 자식 클래스는 부모 클래스의 속성(변수)과 행위(함수)를 그대로 이용할 수 있음\n",
        "- 상속 후에는 자식 클래스만 갖는 속성과 행위를 추가할 수 있음 \n",
        "\n",
        "*기존 클래스가 라이브러리 형태로 제공되거나 수정이 허용되지 않는 상황이라면 상속을 사용"
      ]
    },
    {
      "cell_type": "code",
      "metadata": {
        "id": "BQX88ix8RvW0"
      },
      "source": [
        "class FoldingBicycle(Bicycle): \n",
        "    \n",
        "    def __init__(self,wheel_szie,color,state): # FoldingBicycle 초기화\n",
        "        Bicycle.__init__(self,wheel_szie,color) # 상속 받은 Bycycle() 클래스  초기화 재사용\n",
        "#         super().__init__(wheel_szie,color) # super()도 사용가능\n",
        "        self.state=state # 자식 클래스 변수 추가\n",
        "    def fold(self):\n",
        "        self.state = 'folding'\n",
        "        print('자전거 :접기, state = {0}'.format(self.state))\n",
        "        \n",
        "    def unfold(self):\n",
        "        self.state = 'unfolding'\n",
        "        print('자전거 :펴기, state = {0}'.format(self.state))\n",
        "    \n",
        "    @classmethod\n",
        "    def check(cls):\n",
        "        print(\"객채수 {}\".format(cls.ins_count))"
      ],
      "execution_count": 11,
      "outputs": []
    },
    {
      "cell_type": "code",
      "metadata": {
        "colab": {
          "base_uri": "https://localhost:8080/"
        },
        "id": "luixaYoTPWM4",
        "outputId": "246efeca-212a-4e44-8caa-5047076eff25"
      },
      "source": [
        "Fbicycle = FoldingBicycle(26,\"Black\",\"folding\")\n",
        "\n",
        "Fbicycle.move(44)\n",
        "Fbicycle.fold()\n",
        "Fbicycle.unfold()"
      ],
      "execution_count": 12,
      "outputs": [
        {
          "output_type": "stream",
          "text": [
            "자전거 : 시속 44킬로미터 전진\n",
            "자전거 :접기, state = folding\n",
            "자전거 :펴기, state = unfolding\n"
          ],
          "name": "stdout"
        }
      ]
    },
    {
      "cell_type": "code",
      "metadata": {
        "id": "cqKCQK-aPmTD"
      },
      "source": [
        ""
      ],
      "execution_count": null,
      "outputs": []
    }
  ]
}